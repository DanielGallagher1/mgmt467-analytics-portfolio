{
  "nbformat": 4,
  "nbformat_minor": 0,
  "metadata": {
    "colab": {
      "provenance": [],
      "authorship_tag": "ABX9TyMysIlp3jGETRtuOnvQOEPs",
      "include_colab_link": true
    },
    "kernelspec": {
      "name": "python3",
      "display_name": "Python 3"
    },
    "language_info": {
      "name": "python"
    }
  },
  "cells": [
    {
      "cell_type": "markdown",
      "metadata": {
        "id": "view-in-github",
        "colab_type": "text"
      },
      "source": [
        "<a href=\"https://colab.research.google.com/github/DanielGallagher1/mgmt467-analytics-portfolio/blob/main/Lab0_Colab_Drive_Setup.ipynb\" target=\"_parent\"><img src=\"https://colab.research.google.com/assets/colab-badge.svg\" alt=\"Open In Colab\"/></a>"
      ]
    },
    {
      "cell_type": "code",
      "execution_count": 6,
      "metadata": {
        "colab": {
          "base_uri": "https://localhost:8080/"
        },
        "id": "Jx8g1w9oGzaz",
        "outputId": "b51b2ec3-3e10-4044-bf79-6cf9c7555872"
      },
      "outputs": [
        {
          "output_type": "stream",
          "name": "stdout",
          "text": [
            "Drive already mounted at /content/drive; to attempt to forcibly remount, call drive.mount(\"/content/drive\", force_remount=True).\n"
          ]
        }
      ],
      "source": [
        "from google.colab import drive\n",
        "drive.mount('/content/drive') # approve once\n",
        "# Example paths:\n",
        "# /content/drive/MyDrive/MGMT467/Data/\n",
        "# /content/drive/MyDrive/MGMT467/Exports/"
      ]
    },
    {
      "cell_type": "code",
      "source": [
        "import pandas as pd\n",
        "df = pd.DataFrame({\"hello\":[1,2,3]})\n",
        "df.to_csv(\"/content/drive/MyDrive/MGMT467/Data/hello.csv\", index=False)"
      ],
      "metadata": {
        "id": "eDnczWLaMmua"
      },
      "execution_count": 9,
      "outputs": []
    }
  ]
}