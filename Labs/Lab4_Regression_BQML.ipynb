{
 "cells": [
  {
   "cell_type": "markdown",
   "id": "0",
   "metadata": {
    "id": "BhGtKO7DYHpR"
   },
   "source": [
    "# MGMT 467 — Prompt-Driven Lab (with Commented Examples)\n",
    "## Kaggle ➜ Google Cloud Storage ➜ BigQuery ➜ Data Quality (DQ)\n",
    "\n",
    "**How to use this notebook**\n",
    "- Each section gives you a **Build Prompt** to paste into Gemini/Vertex AI (or Gemini in Colab).\n",
    "- Below each prompt, you’ll see a **commented example** of what a good LLM answer might look like.\n",
    "- **Do not** just uncomment and run. Use the prompt to generate your own code, then compare to the example.\n",
    "- After every step, run the **Verification Prompt**, and write the **Reflection** in Markdown.\n",
    "\n",
    "> Goal today: Download the Netflix dataset (Kaggle) → Stage on GCS → Load into BigQuery → Run DQ profiling (missingness, duplicates, outliers, anomaly flags).\n"
   ]
  },
  {
   "cell_type": "markdown",
   "id": "1",
   "metadata": {
    "id": "rOwO_C3BYHpV"
   },
   "source": [
    "### Academic integrity & LLM usage\n",
    "- Use the prompts here to generate your own code cells.\n",
    "- Read concept notes and write the reflection answers in your own words.\n",
    "- Keep credentials out of code. Upload `kaggle.json` when asked.\n"
   ]
  },
  {
   "cell_type": "markdown",
   "id": "2",
   "metadata": {
    "id": "-KJspaoAYHpW"
   },
   "source": [
    "## Learning objectives\n",
    "1) Explain **why** we stage data in GCS and load it to BigQuery.  \n",
    "2) Build an **idempotent**, auditable pipeline.  \n",
    "3) Diagnose **missingness**, **duplicates**, and **outliers** and justify cleaning choices.  \n",
    "4) Connect DQ decisions to **business/ML impact**.\n"
   ]
  },
  {
   "cell_type": "markdown",
   "id": "3",
   "metadata": {
    "id": "6MqzEi65YHpX"
   },
   "source": [
    "## 0) Environment setup — What & Why\n",
    "Authenticate Colab to Google Cloud so we can use `gcloud`, GCS, and BigQuery. Set **PROJECT_ID** and **REGION** once for consistency (cost/latency)."
   ]
  },
  {
   "cell_type": "markdown",
   "id": "4",
   "metadata": {
    "id": "5P8PmSLVYHpX"
   },
   "source": [
    "### Build Prompt (paste to LLM)\n",
    "You are my cloud TA. Generate a single **Colab code cell** that:\n",
    "1) Authenticates to Google Cloud in Colab,  \n",
    "2) Prompts for `PROJECT_ID` via `input()` and sets `REGION=\"us-central1\"` (editable),  \n",
    "3) Exports `GOOGLE_CLOUD_PROJECT`,  \n",
    "4) Runs `gcloud config set project $GOOGLE_CLOUD_PROJECT`,  \n",
    "5) Prints both values. Add 2–3 comments explaining what/why.\n",
    "End with a comment: `# Done: Auth + Project/Region set`.\n"
   ]
  },
  {
   "cell_type": "code",
   "execution_count": null,
   "id": "5",
   "metadata": {
    "colab": {
     "base_uri": "https://localhost:8080/"
    },
    "executionInfo": {
     "elapsed": 23014,
     "status": "ok",
     "timestamp": 1760995657383,
     "user": {
      "displayName": "Daniel Gallagher",
      "userId": "01685621550923806867"
     },
     "user_tz": 240
    },
    "id": "rLm1cp23YHpY",
    "outputId": "f2c2b9b0-93d3-43d5-95ca-260a7b6f18ae"
   },
   "outputs": [],
   "source": [
    "# # EXAMPLE (from LLM) — Auth + Project/Region (commented; write your own cell using the prompt)\n",
    "from google.colab import auth\n",
    "auth.authenticate_user()\n",
    "\n",
    "import os\n",
    "PROJECT_ID = input(\"Enter your GCP Project ID: \").strip()\n",
    "REGION = \"us-central1\"  # keep consistent; change if instructed\n",
    "os.environ[\"GOOGLE_CLOUD_PROJECT\"] = PROJECT_ID\n",
    "print(\"Project:\", PROJECT_ID, \"| Region:\", REGION)\n",
    "\n",
    "# Set active project for gcloud/BigQuery CLI\n",
    "!gcloud config set project $GOOGLE_CLOUD_PROJECT\n",
    "!gcloud config get-value project\n",
    "# Done: Auth + Project/Region set"
   ]
  },
  {
   "cell_type": "markdown",
   "id": "6",
   "metadata": {
    "id": "exyI0BEZYHpZ"
   },
   "source": [
    "### Verification Prompt\n",
    "Generate a short cell that prints the active project using `gcloud config get-value project` and echoes the `REGION` you set.\n"
   ]
  },
  {
   "cell_type": "markdown",
   "id": "7",
   "metadata": {
    "id": "jOqkC_RgYHpa"
   },
   "source": [
    "**Reflection:** Why do we set `PROJECT_ID` and `REGION` at the top? What can go wrong if we don’t?"
   ]
  },
  {
   "cell_type": "markdown",
   "id": "8",
   "metadata": {
    "id": "NAAjTElUYHpa"
   },
   "source": [
    "## 1) Kaggle API — What & Why\n",
    "Use Kaggle CLI for reproducible downloads. Store `kaggle.json` at `~/.kaggle/kaggle.json` with `0600` permissions to protect secrets."
   ]
  },
  {
   "cell_type": "markdown",
   "id": "9",
   "metadata": {
    "id": "WxHwWaN-YHpa"
   },
   "source": [
    "### Build Prompt\n",
    "Generate a **single Colab code cell** that:\n",
    "- Prompts me to upload `kaggle.json`,\n",
    "- Saves to `~/.kaggle/kaggle.json` with `0600` permissions,\n",
    "- Prints `kaggle --version`.\n",
    "Add comments about security and reproducibility.\n"
   ]
  },
  {
   "cell_type": "code",
   "execution_count": null,
   "id": "10",
   "metadata": {
    "colab": {
     "base_uri": "https://localhost:8080/",
     "height": 107
    },
    "executionInfo": {
     "elapsed": 9565,
     "status": "ok",
     "timestamp": 1760996753917,
     "user": {
      "displayName": "Daniel Gallagher",
      "userId": "01685621550923806867"
     },
     "user_tz": 240
    },
    "id": "mX536lL0YHpb",
    "outputId": "0118d9dd-a1d9-4355-b85e-904750da8e3b"
   },
   "outputs": [],
   "source": [
    "# # EXAMPLE (from LLM) — Kaggle setup (commented)\n",
    "from google.colab import files\n",
    "print(\"Upload your kaggle.json (Kaggle > Account > Create New API Token)\")\n",
    "uploaded = files.upload()\n",
    "# #\n",
    "import os\n",
    "os.makedirs('/root/.kaggle', exist_ok=True)\n",
    "with open('/root/.kaggle/kaggle.json', 'wb') as f:\n",
    "    f.write(uploaded[list(uploaded.keys())[0]])\n",
    "    os.chmod('/root/.kaggle/kaggle.json', 0o600)  # owner-only\n",
    "\n",
    "!kaggle --version"
   ]
  },
  {
   "cell_type": "markdown",
   "id": "11",
   "metadata": {
    "id": "TxIUiBvTYHpb"
   },
   "source": [
    "### Verification Prompt\n",
    "Generate a one-liner that runs `kaggle --help | head -n 20` to show the CLI is ready.\n"
   ]
  },
  {
   "cell_type": "markdown",
   "id": "12",
   "metadata": {
    "id": "ww8ZPC9OYHpc"
   },
   "source": [
    "**Reflection:** Why require strict `0600` permissions on API tokens? What risks are we avoiding?"
   ]
  },
  {
   "cell_type": "code",
   "execution_count": null,
   "id": "13",
   "metadata": {
    "colab": {
     "base_uri": "https://localhost:8080/"
    },
    "executionInfo": {
     "elapsed": 598,
     "status": "ok",
     "timestamp": 1760626952434,
     "user": {
      "displayName": "Daniel Gallagher",
      "userId": "01685621550923806867"
     },
     "user_tz": 240
    },
    "id": "79d496ff",
    "outputId": "7467c06c-acc8-4d9f-d42c-c0eea1615857"
   },
   "outputs": [],
   "source": [
    "!kaggle --help | head -n 20"
   ]
  },
  {
   "cell_type": "markdown",
   "id": "14",
   "metadata": {
    "id": "3ivzxhHddUng"
   },
   "source": []
  },
  {
   "cell_type": "markdown",
   "id": "15",
   "metadata": {
    "id": "bnsuiY5aYHpc"
   },
   "source": [
    "## 2) Download & unzip dataset — What & Why\n",
    "Keep raw files under `/content/data/raw` for predictable paths and auditing.\n",
    "**Dataset:** `sayeeduddin/netflix-2025user-behavior-dataset-210k-records`"
   ]
  },
  {
   "cell_type": "markdown",
   "id": "16",
   "metadata": {
    "id": "hEiSHeWYYHpc"
   },
   "source": [
    "### Build Prompt\n",
    "Generate a **Colab code cell** that:\n",
    "- Creates `/content/data/raw`,\n",
    "- Downloads the dataset to `/content/data` with Kaggle CLI,\n",
    "- Unzips into `/content/data/raw` (overwrite OK),\n",
    "- Lists all CSVs with sizes in a neat table.\n",
    "Include comments describing each step.\n"
   ]
  },
  {
   "cell_type": "code",
   "execution_count": null,
   "id": "17",
   "metadata": {
    "colab": {
     "base_uri": "https://localhost:8080/"
    },
    "executionInfo": {
     "elapsed": 1278,
     "status": "ok",
     "timestamp": 1760996761468,
     "user": {
      "displayName": "Daniel Gallagher",
      "userId": "01685621550923806867"
     },
     "user_tz": 240
    },
    "id": "z7_p8Wd-YHpc",
    "outputId": "91732a2c-86bd-4d1f-8906-29ce4efa970d"
   },
   "outputs": [],
   "source": [
    "# # EXAMPLE (from LLM) — Download & unzip (commented)\n",
    "!mkdir -p /content/data/raw\n",
    "!kaggle datasets download -d sayeeduddin/netflix-2025user-behavior-dataset-210k-records -p /content/data\n",
    "!unzip -o /content/data/*.zip -d /content/data/raw\n",
    "# # # List CSV inventory\n",
    "!ls -lh /content/data/raw/*.csv"
   ]
  },
  {
   "cell_type": "markdown",
   "id": "18",
   "metadata": {
    "id": "fmyncaJ3YHpd"
   },
   "source": [
    "### Verification Prompt\n",
    "Generate a snippet that asserts there are exactly **six** CSV files and prints their names.\n"
   ]
  },
  {
   "cell_type": "markdown",
   "id": "19",
   "metadata": {
    "id": "eyl_jlS2YHpd"
   },
   "source": [
    "**Reflection:** Why is keeping a clean file inventory (names, sizes) useful downstream?"
   ]
  },
  {
   "cell_type": "markdown",
   "id": "20",
   "metadata": {
    "id": "DIF1q3zbd4vJ"
   },
   "source": [
    "To keep track of what files are currently in there and how much space each is taking up or how much space is left"
   ]
  },
  {
   "cell_type": "markdown",
   "id": "21",
   "metadata": {
    "id": "MWBw2hs4YHpd"
   },
   "source": [
    "## 3) Create GCS bucket & upload — What & Why\n",
    "Stage in GCS → consistent, versionable source for BigQuery loads. Bucket names must be **globally unique**."
   ]
  },
  {
   "cell_type": "markdown",
   "id": "22",
   "metadata": {
    "id": "l8Lk5hTbYHpe"
   },
   "source": [
    "### Build Prompt\n",
    "Generate a **Colab code cell** that:\n",
    "- Creates a unique bucket in `${REGION}` (random suffix),\n",
    "- Saves name to `BUCKET_NAME` env var,\n",
    "- Uploads all CSVs to `gs://$BUCKET_NAME/netflix/`,\n",
    "- Prints the bucket name and explains staging benefits.\n"
   ]
  },
  {
   "cell_type": "code",
   "execution_count": null,
   "id": "23",
   "metadata": {
    "colab": {
     "base_uri": "https://localhost:8080/"
    },
    "executionInfo": {
     "elapsed": 7050,
     "status": "ok",
     "timestamp": 1760996771937,
     "user": {
      "displayName": "Daniel Gallagher",
      "userId": "01685621550923806867"
     },
     "user_tz": 240
    },
    "id": "hW8A2Q1SYHpe",
    "outputId": "35eb6d3b-1043-4583-ee4e-831e62c242d6"
   },
   "outputs": [],
   "source": [
    "# # EXAMPLE (from LLM) — GCS staging (commented)\n",
    "import uuid, os\n",
    "bucket_name = f\"mgmt467-netflix-{uuid.uuid4().hex[:8]}\"\n",
    "os.environ[\"BUCKET_NAME\"] = bucket_name\n",
    "!gcloud storage buckets create gs://$BUCKET_NAME --location=\"us-central1\"\n",
    "!gcloud storage cp /content/data/raw/* gs://$BUCKET_NAME/netflix/\n",
    "print(\"Bucket:\", bucket_name)\n",
    "# # # Verify contents\n",
    "!gcloud storage ls gs://$BUCKET_NAME/netflix/"
   ]
  },
  {
   "cell_type": "markdown",
   "id": "24",
   "metadata": {
    "id": "D4xyZDeNYHpf"
   },
   "source": [
    "### Verification Prompt\n",
    "Generate a snippet that lists the `netflix/` prefix and shows object sizes.\n"
   ]
  },
  {
   "cell_type": "code",
   "execution_count": null,
   "id": "25",
   "metadata": {
    "colab": {
     "base_uri": "https://localhost:8080/"
    },
    "executionInfo": {
     "elapsed": 6130,
     "status": "ok",
     "timestamp": 1760996791226,
     "user": {
      "displayName": "Daniel Gallagher",
      "userId": "01685621550923806867"
     },
     "user_tz": 240
    },
    "id": "98b53ee8",
    "outputId": "435e4127-6551-4d15-f070-a97b7ee880c3"
   },
   "outputs": [],
   "source": [
    "import uuid\n",
    "import os\n",
    "\n",
    "# Generate a new unique bucket name\n",
    "bucket_name = f\"mgmt467-netflix-{uuid.uuid4().hex[:8]}\"\n",
    "os.environ[\"BUCKET_NAME\"] = bucket_name\n",
    "\n",
    "# Attempt to create the bucket\n",
    "!gcloud storage buckets create gs://$BUCKET_NAME --location=\"us-central1\"\n",
    "\n",
    "# Check if bucket creation was successful before proceeding\n",
    "# Upload the files\n",
    "!gcloud storage cp /content/data/raw/* gs://$BUCKET_NAME/netflix/\n",
    "\n",
    "# List files with sizes\n",
    "!gcloud storage ls gs://$BUCKET_NAME/netflix/ --human-readable"
   ]
  },
  {
   "cell_type": "markdown",
   "id": "26",
   "metadata": {
    "id": "N7_ORcfIYHpf"
   },
   "source": [
    "**Reflection:** Name two benefits of staging in\n",
    "GCS vs loading directly from local Colab."
   ]
  },
  {
   "cell_type": "markdown",
   "id": "27",
   "metadata": {
    "id": "6_Rs0GWjevrJ"
   },
   "source": [
    "Scalability and Performance: GCS is a highly scalable and performant object storage service. Loading data into BigQuery from GCS is generally faster and more efficient, especially for large datasets, as it leverages Google Cloud's internal network and infrastructure.\n",
    "\n",
    "Reliability and Durability: Data stored in GCS is highly durable and available. It provides built-in redundancy and protection against data loss, ensuring your data is safe and accessible for BigQuery loading and other processes."
   ]
  },
  {
   "cell_type": "markdown",
   "id": "28",
   "metadata": {
    "id": "6AGOt9s8YHpf"
   },
   "source": [
    "## 4) BigQuery dataset & loads — What & Why\n",
    "Create dataset `netflix` and load six CSVs with **autodetect** for speed (we’ll enforce schemas later)."
   ]
  },
  {
   "cell_type": "markdown",
   "id": "29",
   "metadata": {
    "id": "nl51XLwCYHpg"
   },
   "source": [
    "### Build Prompt (two cells)\n",
    "**Cell A:** Create (idempotently) dataset `netflix` in US multi-region; if it exists, print a friendly message.  \n",
    "**Cell B:** Load tables from `gs://$BUCKET_NAME/netflix/`:\n",
    "`users, movies, watch_history, recommendation_logs, search_logs, reviews`\n",
    "with `--skip_leading_rows=1 --autodetect --source_format=CSV`.\n",
    "Finish with row-count queries for each table.\n"
   ]
  },
  {
   "cell_type": "code",
   "execution_count": null,
   "id": "30",
   "metadata": {
    "colab": {
     "base_uri": "https://localhost:8080/"
    },
    "executionInfo": {
     "elapsed": 3074,
     "status": "ok",
     "timestamp": 1760996798129,
     "user": {
      "displayName": "Daniel Gallagher",
      "userId": "01685621550923806867"
     },
     "user_tz": 240
    },
    "id": "MbqUqIlGYHpg",
    "outputId": "5bd937b8-db59-4e8d-e64a-44f148117545"
   },
   "outputs": [],
   "source": [
    "# # EXAMPLE (from LLM) — BigQuery dataset (commented)\n",
    "DATASET=\"netflix\"\n",
    "# # # Attempt to create; ignore if exists\n",
    "!bq --location=US mk -d --description \"MGMT467 Netflix dataset\" $DATASET || echo \"Dataset may already exist.\""
   ]
  },
  {
   "cell_type": "code",
   "execution_count": null,
   "id": "31",
   "metadata": {
    "colab": {
     "base_uri": "https://localhost:8080/"
    },
    "executionInfo": {
     "elapsed": 48663,
     "status": "ok",
     "timestamp": 1760996847589,
     "user": {
      "displayName": "Daniel Gallagher",
      "userId": "01685621550923806867"
     },
     "user_tz": 240
    },
    "id": "gP47n9__YHpg",
    "outputId": "ada80b1d-6caf-4013-9b69-30ca68df73b0"
   },
   "outputs": [],
   "source": [
    "# # EXAMPLE (from LLM) — Load tables (commented)\n",
    "tables = {\n",
    "   \"users\": \"users.csv\",\n",
    "   \"movies\": \"movies.csv\",\n",
    "   \"watch_history\": \"watch_history.csv\",\n",
    "   \"recommendation_logs\": \"recommendation_logs.csv\",\n",
    "   \"search_logs\": \"search_logs.csv\",\n",
    "   \"reviews\": \"reviews.csv\",\n",
    " }\n",
    "import os\n",
    "DATASET = \"netflix\" # Assuming DATASET is set in a previous cell\n",
    "for tbl, fname in tables.items():\n",
    "   src = f\"gs://{os.environ['BUCKET_NAME']}/netflix/{fname}\"\n",
    "   print(\"Loading\", tbl, \"from\", src)\n",
    "   # Corrected bq load syntax: destination_table, source_uri\n",
    "   !bq load --skip_leading_rows=1 --autodetect --source_format=CSV {DATASET}.{tbl} {src}\n",
    "\n",
    "# # # Row counts\n",
    "for tbl in tables.keys():\n",
    "    # Corrected bq query syntax with escaped backticks\n",
    "    query = f\"SELECT '{tbl}' AS table_name, COUNT(*) AS n FROM `{os.environ['GOOGLE_CLOUD_PROJECT']}.netflix.{tbl}`\"\n",
    "    !bq query --nouse_legacy_sql \"{query}\""
   ]
  },
  {
   "cell_type": "markdown",
   "id": "32",
   "metadata": {
    "id": "O3ZuEXVxYHpg"
   },
   "source": [
    "### Verification Prompt\n",
    "Generate a single query that returns `table_name, row_count` for all six tables in `${GOOGLE_CLOUD_PROJECT}.netflix`.\n"
   ]
  },
  {
   "cell_type": "code",
   "execution_count": null,
   "id": "33",
   "metadata": {
    "colab": {
     "base_uri": "https://localhost:8080/",
     "height": 301,
     "referenced_widgets": [
      "2e70f0c6886146fcae862e121e615ecc",
      "31ba2a99f99d46ae9d29d00378d427d5",
      "81a9500e0b5e4135b11c25082b346bff",
      "3489f67ad5e6455f960e563731788f64",
      "21e06f30c01c4c10b0c5386eb2777d5d",
      "5941175ec838437ca7cac53d6be67a76",
      "7ce4ac72f619425ba43ccc7bfaca330f",
      "54ae82a9d60b44298ed1e6b00a496982",
      "a4af76eacc954042ae3513c4660755d7",
      "e122cfcc8fa34096b26afe5cebdad01b",
      "47bcbbf7f8c84af783ac37629bcfccb5",
      "bbee87e3ec48450c850ae838d98333f8",
      "839d81e75a464ae68594de0ab01f4d00",
      "abb9a090d64e40e8b14c4565227b1b8a",
      "ede49776355d4b11ac193533be82c096",
      "a890780596594b6b80243e32941e1ee6",
      "4056c96a8114406b8f717d8e4ddda70a",
      "b1c6f21e6bae4283838b453dce04fcad",
      "02caaaee0e8640ea91ebcc720f98558a",
      "0646ddb32bc144e9b5078d4b6bcef4f3",
      "8383c95e2fa0457fb53214174692d2b6",
      "29cd4bd8121449fe8a9e3961d2c2bba4"
     ]
    },
    "executionInfo": {
     "elapsed": 2664,
     "status": "ok",
     "timestamp": 1760996858657,
     "user": {
      "displayName": "Daniel Gallagher",
      "userId": "01685621550923806867"
     },
     "user_tz": 240
    },
    "id": "867a2bce",
    "outputId": "5bcde51d-8e1c-49c1-ea3f-d374c2c99eff"
   },
   "outputs": [],
   "source": [
    "%%bigquery\n",
    "SELECT 'users' AS table_name, COUNT(*) AS row_count FROM `mgmt-467-2500.netflix.users`\n",
    "UNION ALL\n",
    "SELECT 'movies' AS table_name, COUNT(*) AS row_count FROM `mgmt-467-2500.netflix.movies`\n",
    "UNION ALL\n",
    "SELECT 'watch_history' AS table_name, COUNT(*) AS row_count FROM `mgmt-467-2500.netflix.watch_history`\n",
    "UNION ALL\n",
    "SELECT 'recommendation_logs' AS table_name, COUNT(*) AS row_count FROM `mgmt-467-2500.netflix.recommendation_logs`\n",
    "UNION ALL\n",
    "SELECT 'search_logs' AS table_name, COUNT(*) AS row_count FROM `mgmt-467-2500.netflix.search_logs`\n",
    "UNION ALL\n",
    "SELECT 'reviews' AS table_name, COUNT(*) AS row_count FROM `mgmt-467-2500.netflix.reviews`"
   ]
  },
  {
   "cell_type": "markdown",
   "id": "34",
   "metadata": {
    "id": "TIA-_hfVYHph"
   },
   "source": [
    "**Reflection:** When is `autodetect` acceptable? When should you enforce explicit schemas and why?"
   ]
  },
  {
   "cell_type": "markdown",
   "id": "35",
   "metadata": {
    "id": "5QXczB2Af0No"
   },
   "source": [
    "Autodetect is acceptable for quick exploration or small datasets, but for production pipelines and large datasets, always enforce explicit schemas to ensure data consistency, quality, and maintainability. Explicit schemas prevent unexpected errors from schema changes and are crucial for reliable data governance."
   ]
  },
  {
   "cell_type": "markdown",
   "id": "36",
   "metadata": {
    "id": "pqDqcxubYHph"
   },
   "source": [
    "## 5) Data Quality (DQ) — Concepts we care about\n",
    "- **Missingness** (MCAR/MAR/MNAR). Impute vs drop. Add `is_missing_*` indicators.\n",
    "- **Duplicates** (exact vs near). Double-counted engagement corrupts labels & KPIs.\n",
    "- **Outliers** (IQR). Winsorize/cap vs robust models. Always **flag** and explain.\n",
    "- **Reproducibility**. Prefer `CREATE OR REPLACE` and deterministic keys.\n"
   ]
  },
  {
   "cell_type": "markdown",
   "id": "37",
   "metadata": {
    "id": "ofY2InH-YHph"
   },
   "source": [
    "### 5.1 Missingness (users) — What & Why\n",
    "Measure % missing and check if missingness depends on another variable (MAR) → potential bias & instability."
   ]
  },
  {
   "cell_type": "markdown",
   "id": "38",
   "metadata": {
    "id": "k9jwerYVYHph"
   },
   "source": [
    "### Build Prompt\n",
    "Generate **two BigQuery SQL cells**:\n",
    "1) Total rows and % missing in `region`, `plan_tier`, `age_band` from `users`.\n",
    "2) `% plan_tier missing by region` ordered descending. Add comments on MAR.\n"
   ]
  },
  {
   "cell_type": "code",
   "execution_count": null,
   "id": "39",
   "metadata": {
    "colab": {
     "base_uri": "https://localhost:8080/",
     "height": 144,
     "referenced_widgets": [
      "9ec31e40c07c423783c74a6edf4b4b27",
      "fdd480d651524e2a94d2225864c04cc5",
      "929b8cb7711c42dcbcb080550006f5fe",
      "6253f65b29c845b7bf61c7fc5b82a0d0",
      "cc91fc996d9944f586a16dac42a9dbf6",
      "c4ca33c7627646109ca7ef2ec48c85d4",
      "d77692f4eabf487b94beead1ec94f731",
      "3e5ac0fe1d644798b1ff17242d0962bc",
      "74e1cbb3c45846fe981a48e9e05d2a92",
      "c72fcf89143d4b62ba022c1e7fa970e7",
      "0eb59fddc66f46d790edf40bcd559700",
      "123cba46560b41b1a5f21fd087c1d9c3",
      "571b3a7acb2241ad9f0e9a37c3b89b02",
      "7904867c5c814922a0917a97928dc996",
      "c075e6d28b554e90b873eb28ec096714",
      "5d262cfb07ed46be8fe5b21aa7664ed0",
      "042718d2652649e4a7daecfbdd26fe5d",
      "0f0de7e95a5f410ea5aecd532ebf759e",
      "e2aac6e261a8440bb70ca5b228022486",
      "f06570a4de324f71a25bd17b4831595a",
      "e0cf39a77a0a4a2486b0e855c2768b8d",
      "1792574f3886433ba7cf34032d2b51ca"
     ]
    },
    "executionInfo": {
     "elapsed": 2908,
     "status": "ok",
     "timestamp": 1760729326520,
     "user": {
      "displayName": "Daniel Gallagher",
      "userId": "01685621550923806867"
     },
     "user_tz": 240
    },
    "id": "8703c395",
    "outputId": "c61b59d1-58c2-448f-a046-88644995da7f"
   },
   "outputs": [],
   "source": [
    "%%bigquery\n",
    "-- Users: Total rows and % missing per column (region, plan_tier, age_band)\n",
    "WITH base AS (\n",
    "  SELECT COUNT(*) n,\n",
    "         COUNTIF(state_province IS NULL) miss_region,\n",
    "         COUNTIF(subscription_plan IS NULL) miss_plan,\n",
    "         COUNTIF(age IS NULL) miss_age\n",
    "  FROM `mgmt-467-2500.netflix.users`\n",
    ")\n",
    "SELECT n,\n",
    "       ROUND(SAFE_DIVIDE(100*miss_region, n),2) AS pct_missing_region,\n",
    "       ROUND(SAFE_DIVIDE(100*miss_plan, n),2)   AS pct_missing_plan_tier,\n",
    "       ROUND(SAFE_DIVIDE(100*miss_age, n),2)    AS pct_missing_age_band\n",
    "FROM base;"
   ]
  },
  {
   "cell_type": "code",
   "execution_count": null,
   "id": "40",
   "metadata": {
    "colab": {
     "base_uri": "https://localhost:8080/",
     "height": 1000,
     "referenced_widgets": [
      "f5a65471986e41ce8b9353de60d886b5",
      "8a51f5cc23da469ba68f9534cb86b739",
      "98407699eafb415aa3cfd46799843ad1",
      "9c6fea553b4a453084c7ea0e7be8f851",
      "77c78dd818054364bfbe5d926f29a9fe",
      "b1206b19c3964736bcac49bb031637ec",
      "01c0ff75fbbe4b4cabfb2d39f8caeb52",
      "0042923ab3654137925907857e4c6cb0",
      "4a706da21c0d471590b0b429bd6012e9",
      "f4bd504c256d48b283a14ef5312b1537",
      "303cac028c0c414aa5e9e322138038f9",
      "8c44cb03f85342479d8fb86ade99db5d",
      "9fd25d56475d432798a21531614bbf86",
      "7c402073bcd04a73897680c42b0bebdc",
      "01ef00d61ade43faa71de1c41ecbf2ca",
      "7b16b9c6cc6a4819bc1ff58bcb5198b0",
      "ba9727472c264960aeef4e1f88afc9a1",
      "a17e7fd6ed284d49b9f64b837df9d645",
      "670590012dcf4cb1b344fa403305723d",
      "5714b9c532ed4103bb6c1cdbeda497cb",
      "86493f9d514741f99b466361bf5af61c",
      "b0017154fdbb4ab6969af7b248af93ff"
     ]
    },
    "executionInfo": {
     "elapsed": 2461,
     "status": "ok",
     "timestamp": 1760729378767,
     "user": {
      "displayName": "Daniel Gallagher",
      "userId": "01685621550923806867"
     },
     "user_tz": 240
    },
    "id": "5ed4b78e",
    "outputId": "ef447e68-fccd-495e-d0a9-899631e76940"
   },
   "outputs": [],
   "source": [
    "%%bigquery\n",
    "-- Users: % plan_tier missing by region (examining MAR)\n",
    "-- If the percentage of missing values for a column varies significantly across categories\n",
    "-- of another variable (like region), it might indicate Missing At Random (MAR).\n",
    "SELECT state_province,\n",
    "       COUNT(*) AS n,\n",
    "       ROUND(SAFE_DIVIDE(100*COUNTIF(subscription_plan IS NULL), COUNT(*)),2) AS pct_missing_plan_tier\n",
    "FROM `mgmt-467-2500.netflix.users`\n",
    "GROUP BY state_province\n",
    "ORDER BY pct_missing_plan_tier DESC;"
   ]
  },
  {
   "cell_type": "markdown",
   "id": "41",
   "metadata": {
    "id": "GnR-AmhNYHpj"
   },
   "source": [
    "### Verification Prompt\n",
    "Generate a query that prints the three missingness percentages from (1), rounded to two decimals.\n"
   ]
  },
  {
   "cell_type": "code",
   "execution_count": null,
   "id": "42",
   "metadata": {
    "colab": {
     "base_uri": "https://localhost:8080/",
     "height": 144,
     "referenced_widgets": [
      "1763b39f2ab44ec7a8868441c3e47c62",
      "567a86ad553446728ddfb1cd240c08a8",
      "2521190cf804432b8395bec1b77d5aba",
      "c81994f5193f44928b08602661a83762",
      "57ebf80debed4652b7ab9521d3791590",
      "05db41c884b14c5f8bdd623a06bc4e9e",
      "8415819bfcfb48418c88ff595b5a010d",
      "fd72736a60ed4ab28679123193ef3a85",
      "572c7b97815e4a8492112199d8bdda83",
      "4caf1855d0e14502bc4b46f0e8b30465",
      "c55d6a559354430bb6fa497d28b93a11",
      "0616497e9cce4dad97b989f2020a7ada",
      "ac11a0b6b249435b9743150817d9db72",
      "fa9386073da7481e9856c7ff7bb8e467",
      "22459bbfc91543d8b048a13b51c78dc3",
      "cac7fb457bb44312952ab412b79a3c38",
      "6de1f4134e71427594b66491ce000612",
      "076905ad1b9e4aa4b675b33c4e79ff80",
      "98784c5d87644355907f5438004f642b",
      "d389efe94b814faebc57ae9cda81336e",
      "0986d0e59dbf461ea70adda2e4deb9b9",
      "ceb73ccd33b940ce8fe74b08656842e8"
     ]
    },
    "executionInfo": {
     "elapsed": 2824,
     "status": "ok",
     "timestamp": 1760729486698,
     "user": {
      "displayName": "Daniel Gallagher",
      "userId": "01685621550923806867"
     },
     "user_tz": 240
    },
    "id": "a69bdfa9",
    "outputId": "adaac33b-8b2f-4aca-e185-ca510bc5bde0"
   },
   "outputs": [],
   "source": [
    "%%bigquery\n",
    "WITH base AS (\n",
    "  SELECT COUNT(*) n,\n",
    "         COUNTIF(state_province IS NULL) miss_region,\n",
    "         COUNTIF(subscription_plan IS NULL) miss_plan,\n",
    "         COUNTIF(age IS NULL) miss_age\n",
    "  FROM `mgmt-467-2500.netflix.users`\n",
    ")\n",
    "SELECT n,\n",
    "       ROUND(SAFE_DIVIDE(100*miss_region, n),2) AS pct_missing_region,\n",
    "       ROUND(SAFE_DIVIDE(100*miss_plan, n),2)   AS pct_missing_plan_tier,\n",
    "       ROUND(SAFE_DIVIDE(100*miss_age, n),2)    AS pct_missing_age_band\n",
    "FROM base;"
   ]
  },
  {
   "cell_type": "markdown",
   "id": "43",
   "metadata": {
    "id": "wpX5t8BDYHpj"
   },
   "source": [
    "**Reflection:** Which columns are most missing? Hypothesize MCAR/MAR/MNAR and why."
   ]
  },
  {
   "cell_type": "markdown",
   "id": "44",
   "metadata": {
    "id": "H8Wwhl0xYHpj"
   },
   "source": [
    "### 5.2 Duplicates (watch_history) — What & Why\n",
    "Find exact duplicate interaction records and keep **one best** per group (deterministic policy)."
   ]
  },
  {
   "cell_type": "markdown",
   "id": "45",
   "metadata": {
    "id": "40TdfN1CYHpk"
   },
   "source": [
    "### Build Prompt\n",
    "Generate **two BigQuery SQL cells**:\n",
    "1) Report duplicate groups on `(user_id, movie_id, event_ts, device_type)` with counts (top 20).\n",
    "2) Create table `watch_history_dedup` that keeps one row per group (prefer higher `progress_ratio`, then `minutes_watched`). Add comments.\n"
   ]
  },
  {
   "cell_type": "code",
   "execution_count": null,
   "id": "46",
   "metadata": {
    "colab": {
     "base_uri": "https://localhost:8080/",
     "height": 740,
     "referenced_widgets": [
      "c366b6e8bfb94dabbe407c7cbf11b91e",
      "7aaba357393947ed8d767971d067026f",
      "ab2fd422e2654e609b7963a19aa1ebab",
      "e2fd11cb298246da9275bd5938dc83b0",
      "b094bc362d4e4837a85e313b524a5230",
      "e2b95b9cd0c244fd9c35bd3b3bd8462c",
      "24fd022343454a1b95420790cc0d6c9c",
      "537a716d2c20488aba06ee359cf077f4",
      "e4426dde1b0a48c8ab402920be1ab47e",
      "d45ee90bafd14438b3b0e5fa515dac39",
      "087b6e6141d74e58b4aedbb5844a7c5d",
      "f304c89e830743ff970d9852f6445bc7",
      "f2e65b068c034069a8684726aa6f044d",
      "c752d8ebb85e4c90ab033246ee259f97",
      "42b75376cd9c4d08ba565cd1985b63f4",
      "bce548e745d74671b60d2c690b70f742",
      "1982e4a9bdc644dc8a231a58b8010ded",
      "1da4c475e8364dc9b3a110f3e77e3f1f",
      "4ed5cc8d7af144d79ef09378cf214c5c",
      "1ac3319eaf7f4531bb3635a2e368b355",
      "daea52bebbc240eabca2c41019b3b5bd",
      "75acb292725a4df1a8af8c38fb1c97b6"
     ]
    },
    "executionInfo": {
     "elapsed": 2828,
     "status": "ok",
     "timestamp": 1760729869523,
     "user": {
      "displayName": "Daniel Gallagher",
      "userId": "01685621550923806867"
     },
     "user_tz": 240
    },
    "id": "295709d9",
    "outputId": "caf19697-43f3-4480-e815-15f5ce2bcfe4"
   },
   "outputs": [],
   "source": [
    "%%bigquery\n",
    "-- Report duplicate groups on (user_id, movie_id, event_ts, device_type) with counts (top 20)\n",
    "SELECT user_id, movie_id, device_type, COUNT(*) AS dup_count\n",
    "FROM `mgmt-467-2500.netflix.watch_history`\n",
    "GROUP BY user_id, movie_id, device_type\n",
    "HAVING dup_count > 1\n",
    "ORDER BY dup_count DESC\n",
    "LIMIT 20;"
   ]
  },
  {
   "cell_type": "code",
   "execution_count": null,
   "id": "47",
   "metadata": {
    "colab": {
     "base_uri": "https://localhost:8080/",
     "height": 85,
     "referenced_widgets": [
      "566401366416428b8ad28bbb1b4cfb13",
      "9f7b47c16b494f5685b5ce905184ee31",
      "53fcc8d67eef4c2989e62d4a01ffe21a",
      "172aaf925b4640fb8e10a8a9f55b2a53",
      "1b34117b78ad41ec832f590881a279ae",
      "a9e5cd29356748e684f27e87e308b63c",
      "27f24802c652447f8199a094afe55776",
      "7b31d1c4656d4a65927a9e08cce0e4e6",
      "d013a1448410484f932bd538ffa74a2e",
      "fb8ccd1bfbbc453eaa71ce0b4014f199",
      "b36566ea85f64a498f5298723285c1a3"
     ]
    },
    "executionInfo": {
     "elapsed": 3381,
     "status": "ok",
     "timestamp": 1760730046063,
     "user": {
      "displayName": "Daniel Gallagher",
      "userId": "01685621550923806867"
     },
     "user_tz": 240
    },
    "id": "8214f113",
    "outputId": "d689aa52-5ed3-42a2-c7c8-a16a1d8b6e98"
   },
   "outputs": [],
   "source": [
    "%%bigquery\n",
    "-- Create table watch_history_dedup that keeps one row per group (prefer higher progress_ratio, then minutes_watched)\n",
    "-- Use a window function to assign a rank to each row within a partition of the grouping columns.\n",
    "-- The ORDER BY clause in the window function defines the \"keep-one\" policy.\n",
    "CREATE OR REPLACE TABLE `mgmt-467-2500.netflix.watch_history_dedup` AS\n",
    "SELECT * EXCEPT(rk) FROM (\n",
    "  SELECT h.*,\n",
    "         ROW_NUMBER() OVER (\n",
    "           PARTITION BY user_id, movie_id, device_type\n",
    "           ORDER BY progress_percentage DESC, watch_duration_minutes DESC\n",
    "         ) AS rk\n",
    "  FROM `mgmt-467-2500.netflix.watch_history` h\n",
    ")\n",
    "WHERE rk = 1;"
   ]
  },
  {
   "cell_type": "markdown",
   "id": "48",
   "metadata": {
    "id": "t9z9nPsYYHp2"
   },
   "source": [
    "### Verification Prompt\n",
    "Generate a before/after count query comparing raw vs `watch_history_dedup`.\n"
   ]
  },
  {
   "cell_type": "code",
   "execution_count": null,
   "id": "49",
   "metadata": {
    "colab": {
     "base_uri": "https://localhost:8080/",
     "height": 176,
     "referenced_widgets": [
      "7e901386227e46399ff3f73818e79ada",
      "5e86208a37cb4b46bd4c20b631a5f54b",
      "8fef9a0d454142908541d3052f7a76b9",
      "510d53c7b49a4adfa5540c6ba2e10e3e",
      "55265f7bc8164a3697f920a037d05499",
      "d4754e59a0e34f6d89b92ef2d2a3c173",
      "2a797e15e8f64682b4cf04127d78aea5",
      "35d45a874edf4833aa6617ead5ab9df9",
      "9ac8f21ab08446f8915002046fe64f1d",
      "4bb38e432a97463381a47bf58923e1d3",
      "c5883008acb644c8951e0db100a02043",
      "b86b2afd59b14027b0eeb2657c6b5c02",
      "c226b5461be94d5eae87be1889d38b22",
      "17cc2fb6d3d44aa2a25e346ff30ed259",
      "7e69b88c87884fb0b8abb2147f6ac88e",
      "a4ba9daa87e2467eb51d131892dabda8",
      "76efb0ada1304c5a9c498186346db04d",
      "e5b31a6e83bb4caabc35fbcdd3bb3360",
      "9eb6dfd18dce4b62837cadedc5ed0ef8",
      "2928b1abba7d40e0ad7a28b993887562",
      "2c0165bd98854c30a1554b72d6fe3a78",
      "f34ddf74153a43cc88526e83619a4c51"
     ]
    },
    "executionInfo": {
     "elapsed": 2853,
     "status": "ok",
     "timestamp": 1760730096264,
     "user": {
      "displayName": "Daniel Gallagher",
      "userId": "01685621550923806867"
     },
     "user_tz": 240
    },
    "id": "cf597e4a",
    "outputId": "c554fb9f-4657-414a-a9a5-68150edea6f2"
   },
   "outputs": [],
   "source": [
    "%%bigquery\n",
    "-- Compare row counts before and after deduplication\n",
    "SELECT 'watch_history_raw' AS table_name, COUNT(*) AS row_count\n",
    "FROM `mgmt-467-2500.netflix.watch_history`\n",
    "UNION ALL\n",
    "SELECT 'watch_history_dedup' AS table_name, COUNT(*) AS row_count\n",
    "FROM `mgmt-467-2500.netflix.watch_history_dedup`;"
   ]
  },
  {
   "cell_type": "markdown",
   "id": "50",
   "metadata": {
    "id": "PU6ijFlgYHp2"
   },
   "source": [
    "**Reflection:** Why do duplicates arise (natural vs system-generated)? How do they corrupt labels and KPIs?"
   ]
  },
  {
   "cell_type": "markdown",
   "id": "51",
   "metadata": {
    "id": "O7HEpTwVYHp2"
   },
   "source": [
    "### 5.3 Outliers (minutes_watched) — What & Why\n",
    "Estimate extreme values via IQR; report % outliers; **winsorize** to P01/P99 for robustness while also **flagging** extremes."
   ]
  },
  {
   "cell_type": "markdown",
   "id": "52",
   "metadata": {
    "id": "0gwSawvwYHp3"
   },
   "source": [
    "### Build Prompt\n",
    "Generate **two BigQuery SQL cells**:\n",
    "1) Compute IQR bounds for `minutes_watched` on `watch_history_dedup` and report % outliers.\n",
    "2) Create `watch_history_robust` with `minutes_watched_capped` capped at P01/P99; return quantile summaries before/after.\n"
   ]
  },
  {
   "cell_type": "code",
   "execution_count": null,
   "id": "53",
   "metadata": {
    "colab": {
     "base_uri": "https://localhost:8080/",
     "height": 144,
     "referenced_widgets": [
      "8a433c861f464599804de037c3615c6d",
      "bc2c2ae46dbf44c4b5c0386c3c54fa4a",
      "005b6b497cfc48e8b88126b49fdd47de",
      "c1048ebd636b4f1a8afb8f3cdf69a7e8",
      "fa6acfbcc7d64bb1a709efbe54621ada",
      "24ebafc180b8490c86e2cdca22d6c5ea",
      "747df6474e034c128193a616df675495",
      "99f22ee2efd6457e8057280780d48461",
      "d5dbf4261df34ee095d5c4c2566f6cee",
      "0e91df9b4d9c4b6fa8ab51898fb7a01c",
      "f895fee6937b47af88a5c0459c793ba6",
      "2fd51bdad9884fff915642d7dfc4112e",
      "4be27514edd34905b9d27c91c8437c9d",
      "65f4dd28cbc143a6a0a645d95176f54c",
      "43a745f34ab1459f862bb0df8e25d46a",
      "1804f36ccb384e9bbc934e555e71686e",
      "e6fbbaad6f1e433c89b095ff6773e0ff",
      "726666562c794ebdb3e75014b28557c8",
      "ccbb101e2b9f480a91f6a86fc4891d30",
      "2d005b204e434014ac538bcf410eac7d",
      "9420044b20bf4af98ea582f0784e11d5",
      "253b24a91d644f43bfe26cddf4d94c46"
     ]
    },
    "executionInfo": {
     "elapsed": 3075,
     "status": "ok",
     "timestamp": 1760730194894,
     "user": {
      "displayName": "Daniel Gallagher",
      "userId": "01685621550923806867"
     },
     "user_tz": 240
    },
    "id": "b82d58b1",
    "outputId": "928a9cee-0ed8-4721-aa2b-54b4a931a5d2"
   },
   "outputs": [],
   "source": [
    "%%bigquery\n",
    "WITH dist AS (\n",
    "  SELECT\n",
    "    APPROX_QUANTILES(watch_duration_minutes, 4)[OFFSET(1)] AS q1,\n",
    "    APPROX_QUANTILES(watch_duration_minutes, 4)[OFFSET(3)] AS q3\n",
    "  FROM `mgmt-467-2500.netflix.watch_history_dedup`\n",
    "),\n",
    "bounds AS (\n",
    "  SELECT q1, q3, (q3-q1) AS iqr,\n",
    "         q1 - 1.5*(q3-q1) AS lo,\n",
    "         q3 + 1.5*(q3-q1) AS hi\n",
    "  FROM dist\n",
    ")\n",
    "SELECT\n",
    "  COUNTIF(h.watch_duration_minutes < b.lo OR h.watch_duration_minutes > b.hi) AS outliers,\n",
    "  COUNT(*) AS total,\n",
    "  ROUND(100*COUNTIF(h.watch_duration_minutes < b.lo OR h.watch_duration_minutes > b.hi)/COUNT(*),2) AS pct_outliers\n",
    "FROM `mgmt-467-2500.netflix.watch_history_dedup` h\n",
    "CROSS JOIN bounds b;"
   ]
  },
  {
   "cell_type": "code",
   "execution_count": null,
   "id": "54",
   "metadata": {
    "colab": {
     "base_uri": "https://localhost:8080/",
     "height": 85,
     "referenced_widgets": [
      "6c8497b987d94f5597122594f946ca8f",
      "e417c6e6302f4c129093af34fcc9df4b",
      "debff8179f144e4bb6ab8a0bfe3ece37",
      "9366578ed8b240269ce979b29b3ab739",
      "fed69d04e7f14063a84257d76496c9e6",
      "be392f2bdcd340659efe9db69ff8d038",
      "ae8af2e232814f93a5888fde8785798c",
      "a710f293b8e74399b3894afa89ce919d",
      "0ee2e3e4bae6491cb5a56b4718d6b4ae",
      "7c676b19ce2a48389f2b36e99f094700",
      "2073201850e94eed85acf8d9fca9ebdf"
     ]
    },
    "executionInfo": {
     "elapsed": 3111,
     "status": "ok",
     "timestamp": 1760730236931,
     "user": {
      "displayName": "Daniel Gallagher",
      "userId": "01685621550923806867"
     },
     "user_tz": 240
    },
    "id": "962ba94b",
    "outputId": "297250da-27d4-4f6d-97ef-a54297a5e467"
   },
   "outputs": [],
   "source": [
    "%%bigquery\n",
    "CREATE OR REPLACE TABLE `mgmt-467-2500.netflix.watch_history_robust` AS\n",
    "WITH q AS (\n",
    "  SELECT\n",
    "    APPROX_QUANTILES(watch_duration_minutes, 100)[OFFSET(1)]  AS p01,\n",
    "    APPROX_QUANTILES(watch_duration_minutes, 100)[OFFSET(98)] AS p99\n",
    "  FROM `mgmt-467-2500.netflix.watch_history_dedup`\n",
    ")\n",
    "SELECT\n",
    "  h.*,\n",
    "  GREATEST(q.p01, LEAST(q.p99, h.watch_duration_minutes)) AS minutes_watched_capped\n",
    "FROM `mgmt-467-2500.netflix.watch_history_dedup` h, q;\n",
    "\n",
    "-- Quantiles before vs after\n",
    "-- This query is commented out because it's a separate result and should be run in a new cell for clarity.\n",
    "/*\n",
    "WITH before AS (\n",
    "  SELECT 'before' AS which, APPROX_QUANTILES(minutes_watched, 5) AS q\n",
    "  FROM `${GOOGLE_CLOUD_PROJECT}.netflix.watch_history_dedup`\n",
    "),\n",
    "after AS (\n",
    "  SELECT 'after' AS which, APPROX_QUANTILES(minutes_watched_capped, 5) AS q\n",
    "  FROM `${GOOGLE_CLOUD_PROJECT}.netflix.watch_history_robust`\n",
    ")\n",
    "SELECT * FROM before UNION ALL SELECT * FROM after;\n",
    "*/"
   ]
  },
  {
   "cell_type": "markdown",
   "id": "55",
   "metadata": {
    "id": "eeB8UFa4YHp4"
   },
   "source": [
    "### Verification Prompt\n",
    "Generate a query that shows min/median/max before vs after capping.\n"
   ]
  },
  {
   "cell_type": "code",
   "execution_count": null,
   "id": "56",
   "metadata": {
    "colab": {
     "base_uri": "https://localhost:8080/",
     "height": 176,
     "referenced_widgets": [
      "7e2b84e11fda41d3b1f92b7d02477595",
      "d1922a96f0fd4c28bcdc3aeff9a4a9c6",
      "b66a7c1cc86344f9bb529331d71cd4ac",
      "d25af22d09c2446ea90a564e60100817",
      "e1d3655aee55491dba3cb1b9c5b462cf",
      "c836b285c29a4e51859e963d6a8b2db1",
      "f6b46790836344dab9baec411ca9a55e",
      "4bdf767ef88246519d8718b514286c74",
      "80c6b69b0f954c67bdaf9ea2b7b37d4d",
      "b6d65ad38832415fb5f1b2d7ff69a2da",
      "98247fc6e9974cc589e5040bf3b85233",
      "e45b4b1088784e99a01face7d619a757",
      "4f41b9b7bf8b42b4b14f96e7a49188b4",
      "9b639d0bf8834007a973c05cfd9c1534",
      "c5cb81d9cbcd4807b156304ccafef914",
      "c8de430e9cff4c2f99c13e3d514e58d0",
      "81d937394a1344dbad474a909f4de328",
      "7b3310237ce34a92a7052e6af44ef636",
      "b78a4ecc3da54908ac1ac0a58e8b0ff4",
      "47d520208bf44e5c998c8362698777df",
      "730773ea121a43f5ad38624e4c9aefd8",
      "40442c34401a4354b2766bf0cc76565e"
     ]
    },
    "executionInfo": {
     "elapsed": 3022,
     "status": "ok",
     "timestamp": 1760730506049,
     "user": {
      "displayName": "Daniel Gallagher",
      "userId": "01685621550923806867"
     },
     "user_tz": 240
    },
    "id": "8ea0317e",
    "outputId": "caff8e43-57cd-45cf-f903-80dc28ed9895"
   },
   "outputs": [],
   "source": [
    "%%bigquery\n",
    "WITH before AS (\n",
    "  SELECT\n",
    "    'before' AS which,\n",
    "    MIN(watch_duration_minutes) AS min_watched,\n",
    "    APPROX_QUANTILES(watch_duration_minutes, 2)[OFFSET(1)] AS median_watched,\n",
    "    MAX(watch_duration_minutes) AS max_watched\n",
    "  FROM `mgmt-467-2500.netflix.watch_history_dedup`\n",
    "),\n",
    "after AS (\n",
    "  SELECT\n",
    "    'after' AS which,\n",
    "    MIN(minutes_watched_capped) AS min_watched,\n",
    "    APPROX_QUANTILES(minutes_watched_capped, 2)[OFFSET(1)] AS median_watched,\n",
    "    MAX(minutes_watched_capped) AS max_watched\n",
    "  FROM `mgmt-467-2500.netflix.watch_history_robust`\n",
    ")\n",
    "SELECT * FROM before\n",
    "UNION ALL\n",
    "SELECT * FROM after;"
   ]
  },
  {
   "cell_type": "markdown",
   "id": "57",
   "metadata": {
    "id": "GoaA1QtQYHp5"
   },
   "source": [
    "**Reflection:** When might capping be harmful? Name a model type less sensitive to outliers and why."
   ]
  },
  {
   "cell_type": "markdown",
   "id": "58",
   "metadata": {
    "id": "AQO6Su0VYHp5"
   },
   "source": [
    "### 5.4 Business anomaly flags — What & Why\n",
    "Human-readable flags help both product decisioning and ML features (e.g., binge behavior)."
   ]
  },
  {
   "cell_type": "markdown",
   "id": "59",
   "metadata": {
    "id": "Xdg4QYLjYHp5"
   },
   "source": [
    "### Build Prompt\n",
    "Generate **three BigQuery SQL cells** (adjust if columns differ):\n",
    "1) In `watch_history_robust`, compute and summarize `flag_binge` for sessions > 8 hours.\n",
    "2) In `users`, compute and summarize `flag_age_extreme` if age can be parsed from `age_band` (<10 or >100).\n",
    "3) In `movies`, compute and summarize `flag_duration_anomaly` where `duration_min` < 15 or > 480 (if exists).\n",
    "Each cell should output count and percentage and include 1–2 comments.\n"
   ]
  },
  {
   "cell_type": "code",
   "execution_count": null,
   "id": "60",
   "metadata": {
    "colab": {
     "base_uri": "https://localhost:8080/",
     "height": 144,
     "referenced_widgets": [
      "3a1527e238d14b4c864a7d17e7e8eaae",
      "941449a3107e491bacf00f6406ba9ac9",
      "fb81675e3bb54e6999b29868d357a306",
      "0ef7d6b459dd4ff69c7477a834a10341",
      "9551519a4a274b299f56dd3328733a86",
      "5bad9f5f5e66401ca16457260fd66b23",
      "4f553513dce74e92b0caa3249bd9360a",
      "032e0812eb1a41b1856a25cef42057bd",
      "cabf64c7d50e453e91dbb5514478e0d8",
      "5d34519bb7a845e4bc9707c7bbae2ac0",
      "545f35142c6e4cc1abef5ce14c81e4c5",
      "6c373540751d453eb5ecdd709701d71b",
      "4419f4cbb4fe4669854eb4586cbc7b83",
      "2b55d477d8a74121a8c4a2937e41a88d",
      "469844a413ee4e8c9f26c749bd3fa242",
      "2552dce641fe495c85c36dcef9c30db1",
      "f12b9ea3dd574c55b61e863fc5cedc6e",
      "4097b65465904412a276b7b9d6fce746",
      "b0a1e6be4a21426eacc9c73096489599",
      "e48e384aee144ae3911d085caa11b76b",
      "fc3f15ba631b42c0bf51b8f5ec71b253",
      "2b53e54ec36e4427a8d8659a34cfdff5"
     ]
    },
    "executionInfo": {
     "elapsed": 3295,
     "status": "ok",
     "timestamp": 1760730530118,
     "user": {
      "displayName": "Daniel Gallagher",
      "userId": "01685621550923806867"
     },
     "user_tz": 240
    },
    "id": "736664d9",
    "outputId": "81d3b810-ec0a-4010-a046-f357ec99aa35"
   },
   "outputs": [],
   "source": [
    "%%bigquery\n",
    "-- Summarize flag_binge for sessions > 8 hours in watch_history_robust\n",
    "-- A session is considered a binge if minutes_watched exceeds 8 hours (480 minutes).\n",
    "SELECT\n",
    "  COUNTIF(watch_duration_minutes > 8*60) AS sessions_over_8h,\n",
    "  COUNT(*) AS total,\n",
    "  ROUND(SAFE_DIVIDE(100*COUNTIF(watch_duration_minutes > 8*60), COUNT(*)),2) AS pct_flag_binge\n",
    "FROM `mgmt-467-2500.netflix.watch_history_robust`;"
   ]
  },
  {
   "cell_type": "code",
   "execution_count": null,
   "id": "61",
   "metadata": {
    "colab": {
     "base_uri": "https://localhost:8080/",
     "height": 144,
     "referenced_widgets": [
      "2dc593af93b14b428d5c6c5a92b3cbfa",
      "9e9d2c1c5e244ea99c40ea16d398fd7c",
      "940b17dbd9ee4db4bf7582d3815d7576",
      "58ff719c451d490291dc135e17f433d2",
      "94c6b56eee10407ebe0dc2767a4e8454",
      "24dd3fbb88a241cc8b7ecaf8caf8f61c",
      "31bf9de87de440fca5f867b42171192f",
      "b3b6132dbb29483baaab5c3ff723afb6",
      "e414d15cfb204e55be26b8416e2435fa",
      "168009fbccae456f9182f2de57560466",
      "aa5f2fbf43994cb193f2f92eb0110c3a",
      "a94432a0d34d42c0a412865884fa6cf1",
      "53f97d2b27cb483fbd75450507bb84b1",
      "be8af36fb93248f6b05080853f181099",
      "41ef105fcced4e06976995323e9c1af4",
      "c8bb937b42654924a8f726c3362eaa3f",
      "8c1f3dbff0074b9987d4d9af47551023",
      "a178f2eb0a2e4759aa5422d8fa960985",
      "5a0507f31e6041e5bfd052b3415fd86a",
      "84e1cc8db4ca4534a83d6e277c6efa49",
      "46b93af89f4d402fb994307182ed8973",
      "3a9c834fa4c54782b065423d674b8b91"
     ]
    },
    "executionInfo": {
     "elapsed": 2790,
     "status": "ok",
     "timestamp": 1760730673582,
     "user": {
      "displayName": "Daniel Gallagher",
      "userId": "01685621550923806867"
     },
     "user_tz": 240
    },
    "id": "5f54ada7",
    "outputId": "294f2e85-829e-45e8-ef11-e4399dca7fb7"
   },
   "outputs": [],
   "source": [
    "%%bigquery\n",
    "-- Summarize flag_age_extreme in users\n",
    "-- Flag users with extreme ages (below 10 or above 100) based on parsing age_band.\n",
    "SELECT\n",
    "  COUNTIF(SAFE_CAST(REGEXP_EXTRACT(CAST(age AS STRING), r'\\d+') AS INT64) < 10 OR\n",
    "          SAFE_CAST(REGEXP_EXTRACT(CAST(age AS STRING), r'\\d+') AS INT64) > 100) AS extreme_age_rows,\n",
    "  COUNT(*) AS total,\n",
    "  ROUND(SAFE_DIVIDE(100*COUNTIF(SAFE_CAST(REGEXP_EXTRACT(CAST(age AS STRING), r'\\d+') AS INT64) < 10 OR\n",
    "                                SAFE_CAST(REGEXP_EXTRACT(CAST(age AS STRING), r'\\d+') AS INT64) > 100), COUNT(*)),2) AS pct_flag_age_extreme\n",
    "FROM `mgmt-467-2500.netflix.users`;"
   ]
  },
  {
   "cell_type": "code",
   "execution_count": null,
   "id": "62",
   "metadata": {
    "colab": {
     "base_uri": "https://localhost:8080/",
     "height": 144,
     "referenced_widgets": [
      "1092052dc4784e28b8c112eda9ee1721",
      "fef7ca6c99b044c3bedbbac6084171e7",
      "5498ab0b104042278b254e18982b410a",
      "0acb951b87774f139710b555d3db3038",
      "02524e4f97cc425782332199c9f6aed5",
      "61a16c785f55492f8e07809bb69a59be",
      "b27d214c3e1c4db297b0f6eaae30347c",
      "2ca0686229cd4d378dc8f1be1d32fcd4",
      "007c5d9cbdbf4a0bb09200c12b39b0e1",
      "6be726c264a145d5a5b4fa06126b575e",
      "5633feeb5cd64bfd8d8a1ce4fc322732",
      "2744d27cc4f84274b1cbe187abd87ed7",
      "02401650d53b4ffda71b4688fe74bd4c",
      "e83e84742fb843cb89940a593f728369",
      "b6c60246003342ea8934a8725e6e9efa",
      "6b40653ee1d1447babf841b9e71c669c",
      "bc1296a4649040c1a29ec4ccf89a45a1",
      "102a3cc9979b44159bfacd2a69a5c0d4",
      "5a07c6f293a04acf934df81ef07a23e9",
      "62a6bce785504d2fb5a5726667469018",
      "56f8f7c4ff27489da70a165e8bd51150",
      "f5163b4befef4effa4d387459a155a08"
     ]
    },
    "executionInfo": {
     "elapsed": 2917,
     "status": "ok",
     "timestamp": 1760730801871,
     "user": {
      "displayName": "Daniel Gallagher",
      "userId": "01685621550923806867"
     },
     "user_tz": 240
    },
    "id": "1585a85a",
    "outputId": "35bb8d1f-c541-4815-a6a7-2d3e23e4f2f9"
   },
   "outputs": [],
   "source": [
    "%%bigquery\n",
    "-- Summarize flag_duration_anomaly in movies\n",
    "-- Flag movies with unusually short or long durations (less than 15 min or more than 8 hours).\n",
    "SELECT\n",
    "  COUNTIF(duration_minutes < 15 OR duration_minutes > 8*60) AS duration_anomaly_titles,\n",
    "  COUNT(*) AS total,\n",
    "  ROUND(SAFE_DIVIDE(100*COUNTIF(duration_minutes < 15 OR duration_minutes > 8*60), COUNT(*)),2) AS pct_flag_duration_anomaly\n",
    "FROM `mgmt-467-2500.netflix.movies`;"
   ]
  },
  {
   "cell_type": "markdown",
   "id": "63",
   "metadata": {
    "id": "9XclwZFsYHp7"
   },
   "source": [
    "### Verification Prompt\n",
    "Generate a single compact summary query that returns two columns per flag: `flag_name, pct_of_rows`.\n"
   ]
  },
  {
   "cell_type": "code",
   "execution_count": null,
   "id": "64",
   "metadata": {
    "colab": {
     "base_uri": "https://localhost:8080/",
     "height": 207,
     "referenced_widgets": [
      "043206b439e84a5296fbc80119387dd8",
      "b4921add75ee4f4e8dc52aad0042a3da",
      "b7e739e4e34c49e886f01fe5b84a7912",
      "75f2fdc50ca34e409e2d0cff4d169173",
      "54c43be5c59d4ba2a2e5e1a674482d76",
      "dc9ff51a7500445c957018e44741a0e3",
      "bfd3a1a4951d4254a20d2c00f1806ffb",
      "94e6188b3bf84e60915f9c2c1eb7090f",
      "6bd7a396599148bf807fcf0a2f7ac465",
      "ccf0124392164e18ae440d3a6773d89b",
      "22b68c5e6068432697008011de8d5564",
      "47c5b41bd6e74a9e94bba967481d0cc3",
      "d75539b389ef401098eba9ae0143fffe",
      "f07792e13efa461cb8d03b1c4ada50c1",
      "1ea795398c094e34802b0218a0f2cb7b",
      "22852cb1a0ca4142999ef77bce1ea825",
      "c26105d8010f472782b88deff937301d",
      "dc2d9511798b43c6895e3c684e20bc4e",
      "7f034b57b1d444efb151b5ea485bcffc",
      "ae6f23fdfe8142eca4b6a816e5dcf01f",
      "403f464e0dc149889a12a76ee7798e06",
      "dc53cfecea5b47bb81104508834f78f7"
     ]
    },
    "executionInfo": {
     "elapsed": 2872,
     "status": "ok",
     "timestamp": 1760730935936,
     "user": {
      "displayName": "Daniel Gallagher",
      "userId": "01685621550923806867"
     },
     "user_tz": 240
    },
    "id": "2a5fda60",
    "outputId": "947c3531-120e-49c9-8340-180144f6c365"
   },
   "outputs": [],
   "source": [
    "%%bigquery\n",
    "-- Single compact summary query for anomaly flags\n",
    "SELECT\n",
    "  'flag_binge' AS flag_name,\n",
    "  ROUND(SAFE_DIVIDE(100*COUNTIF(watch_duration_minutes > 8*60), COUNT(*)),2) AS pct_of_rows\n",
    "FROM `mgmt-467-2500.netflix.watch_history_robust`\n",
    "UNION ALL\n",
    "SELECT\n",
    "  'flag_age_extreme' AS flag_name,\n",
    "  ROUND(SAFE_DIVIDE(100*COUNTIF(SAFE_CAST(REGEXP_EXTRACT(CAST(age AS STRING), r'\\d+') AS INT64) < 10 OR\n",
    "                                SAFE_CAST(REGEXP_EXTRACT(CAST(age AS STRING), r'\\d+') AS INT64) > 100), COUNT(*)),2) AS pct_of_rows\n",
    "FROM `mgmt-467-2500.netflix.users`\n",
    "UNION ALL\n",
    "SELECT\n",
    "  'flag_duration_anomaly' AS flag_name,\n",
    "  ROUND(SAFE_DIVIDE(100*COUNTIF(duration_minutes < 15 OR duration_minutes > 8*60), COUNT(*)),2) AS pct_of_rows\n",
    "FROM `mgmt-467-2500.netflix.movies`;"
   ]
  },
  {
   "cell_type": "markdown",
   "id": "65",
   "metadata": {
    "id": "a572sAFdYHp7"
   },
   "source": [
    "**Reflection:** Which anomaly flag is most common? Which would you keep as a feature and why?"
   ]
  },
  {
   "cell_type": "markdown",
   "id": "66",
   "metadata": {
    "id": "s2rLDD2uYHp8"
   },
   "source": [
    "## 6) Save & submit — What & Why\n",
    "Reproducibility: save artifacts and document decisions so others can rerun and audit."
   ]
  },
  {
   "cell_type": "markdown",
   "id": "67",
   "metadata": {
    "id": "iaUgEdHxYHp8"
   },
   "source": [
    "### Build Prompt\n",
    "Generate a checklist (Markdown) students can paste at the end:\n",
    "- Save this notebook to the team Drive.\n",
    "- Export a `.sql` file with your DQ queries and save to repo.\n",
    "- Push notebook + SQL to the **team GitHub** with a descriptive commit.\n",
    "- Add a README with your `PROJECT_ID`, `REGION`, bucket, dataset, and today’s row counts.\n"
   ]
  },
  {
   "cell_type": "markdown",
   "id": "68",
   "metadata": {
    "id": "X3jOqB6YYHp8"
   },
   "source": [
    "## Grading rubric (quick)\n",
    "- Profiling completeness (30)  \n",
    "- Cleaning policy correctness & reproducibility (40)  \n",
    "- Reflection/insight (20)  \n",
    "- Hygiene (naming, verification, idempotence) (10)\n"
   ]
  },
  {
   "cell_type": "code",
   "execution_count": null,
   "id": "69",
   "metadata": {
    "colab": {
     "base_uri": "https://localhost:8080/"
    },
    "executionInfo": {
     "elapsed": 9594,
     "status": "ok",
     "timestamp": 1761247072908,
     "user": {
      "displayName": "Daniel Gallagher",
      "userId": "01685621550923806867"
     },
     "user_tz": 240
    },
    "id": "BWteBk5PgGHn",
    "outputId": "0ae7f277-396e-4ad4-a8ea-241d24066573"
   },
   "outputs": [],
   "source": [
    "!pip install nbstripout"
   ]
  },
  {
   "cell_type": "code",
   "execution_count": null,
   "id": "70",
   "metadata": {
    "executionInfo": {
     "elapsed": 2245,
     "status": "ok",
     "timestamp": 1761247233944,
     "user": {
      "displayName": "Daniel Gallagher",
      "userId": "01685621550923806867"
     },
     "user_tz": 240
    },
    "id": "f49ceeb5"
   },
   "outputs": [],
   "source": [
    "!nbstripout Labs/Lab4_Regression_BQML.ipynb"
   ]
  },
  {
   "cell_type": "code",
   "execution_count": null,
   "id": "71",
   "metadata": {
    "colab": {
     "base_uri": "https://localhost:8080/"
    },
    "executionInfo": {
     "elapsed": 702,
     "status": "ok",
     "timestamp": 1761247236783,
     "user": {
      "displayName": "Daniel Gallagher",
      "userId": "01685621550923806867"
     },
     "user_tz": 240
    },
    "id": "duhkTbKZr_Th",
    "outputId": "7cf788f2-32ed-455d-e1fd-73b9306e2519"
   },
   "outputs": [],
   "source": [
    "from google.colab import drive\n",
    "drive.mount('/content/drive')"
   ]
  },
  {
   "cell_type": "code",
   "execution_count": null,
   "id": "72",
   "metadata": {
    "executionInfo": {
     "elapsed": 211,
     "status": "ok",
     "timestamp": 1761247237926,
     "user": {
      "displayName": "Daniel Gallagher",
      "userId": "01685621550923806867"
     },
     "user_tz": 240
    },
    "id": "ekZ6kUCEsABe"
   },
   "outputs": [],
   "source": [
    "!git config --global user.name \"DanielGallagher1\"\n",
    "!git config --global user.email \"gallagherdaniel555@gmail.com\""
   ]
  },
  {
   "cell_type": "code",
   "execution_count": null,
   "id": "73",
   "metadata": {
    "colab": {
     "base_uri": "https://localhost:8080/"
    },
    "executionInfo": {
     "elapsed": 1660,
     "status": "ok",
     "timestamp": 1761247242717,
     "user": {
      "displayName": "Daniel Gallagher",
      "userId": "01685621550923806867"
     },
     "user_tz": 240
    },
    "id": "fV4TxUlVr_zg",
    "outputId": "ff40fbea-1246-4449-9725-e191ca6f0000"
   },
   "outputs": [],
   "source": [
    "from getpass import getpass\n",
    "token = getpass('Enter your GitHub token: ')\n",
    "!git clone https://{token}@github.com/DanielGallagher1/mgmt467-analytics-portfolio.git"
   ]
  },
  {
   "cell_type": "code",
   "execution_count": null,
   "id": "74",
   "metadata": {
    "colab": {
     "base_uri": "https://localhost:8080/"
    },
    "executionInfo": {
     "elapsed": 39,
     "status": "ok",
     "timestamp": 1761247120140,
     "user": {
      "displayName": "Daniel Gallagher",
      "userId": "01685621550923806867"
     },
     "user_tz": 240
    },
    "id": "3Gwmxkd7sB8Z",
    "outputId": "f0ed4f1a-71be-417d-8e8a-46efd004f9cb"
   },
   "outputs": [],
   "source": [
    "%cd /content/mgmt467-analytics-portfolio/"
   ]
  },
  {
   "cell_type": "code",
   "execution_count": null,
   "id": "75",
   "metadata": {
    "executionInfo": {
     "elapsed": 839,
     "status": "ok",
     "timestamp": 1761247121919,
     "user": {
      "displayName": "Daniel Gallagher",
      "userId": "01685621550923806867"
     },
     "user_tz": 240
    },
    "id": "effIc5w2sCMx"
   },
   "outputs": [],
   "source": [
    "!cp \"/content/drive/My Drive/MGMT467/Labs/Lab4_Regression_BQML.ipynb\" \"/content/mgmt467-analytics-portfolio/Labs/\""
   ]
  },
  {
   "cell_type": "code",
   "execution_count": null,
   "id": "76",
   "metadata": {
    "colab": {
     "base_uri": "https://localhost:8080/"
    },
    "executionInfo": {
     "elapsed": 1120,
     "status": "ok",
     "timestamp": 1761247123786,
     "user": {
      "displayName": "Daniel Gallagher",
      "userId": "01685621550923806867"
     },
     "user_tz": 240
    },
    "id": "b0vp23LmsO31",
    "outputId": "b599f05c-85f8-45e6-d584-b766887f5b65"
   },
   "outputs": [],
   "source": [
    "!git add Labs/Lab4_Regression_BQML.ipynb\n",
    "!git commit -m \"Added Lab4_Regression_BQML.ipynb with latest analysis\"\n",
    "!git push https://{token}@github.com/DanielGallagher1/mgmt467-analytics-portfolio.git main"
   ]
  }
 ],
 "metadata": {
  "colab": {
   "provenance": []
  },
  "kernelspec": {
   "display_name": "Python 3",
   "name": "python3"
  }
 },
 "nbformat": 4,
 "nbformat_minor": 5
}
