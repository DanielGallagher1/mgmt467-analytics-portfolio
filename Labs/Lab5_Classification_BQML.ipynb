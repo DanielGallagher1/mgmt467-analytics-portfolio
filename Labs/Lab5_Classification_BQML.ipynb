{
 "cells": [
  {
   "cell_type": "markdown",
   "id": "0",
   "metadata": {
    "id": "5869f3af"
   },
   "source": [
    "# 📊 MGMT 467 - Unit 2 Lab 2: Churn Modeling with BigQueryML + Feature Engineering\n",
    "**Date:** 2025-10-16\n",
    "\n",
    "In this lab you will:\n",
    "- Connect to BigQuery from Colab\n",
    "- Create features and labels\n",
    "- Engineer new features from user behavior\n",
    "- Train and evaluate logistic regression models\n",
    "- Reflect on modeling assumptions and interpret results"
   ]
  },
  {
   "cell_type": "code",
   "execution_count": null,
   "id": "1",
   "metadata": {
    "colab": {
     "base_uri": "https://localhost:8080/"
    },
    "executionInfo": {
     "elapsed": 79636,
     "status": "ok",
     "timestamp": 1760992291733,
     "user": {
      "displayName": "Daniel Gallagher",
      "userId": "01685621550923806867"
     },
     "user_tz": 240
    },
    "id": "305da483",
    "outputId": "3247522d-7aae-4cea-821b-5aa9cc161dc1"
   },
   "outputs": [],
   "source": [
    "# ✅ Authenticate and set up GCP project\n",
    "from google.colab import auth\n",
    "auth.authenticate_user()\n",
    "\n",
    "project_id = \"mgmt-467-2500\"  # <-- Replace with your actual project ID\n",
    "!gcloud config set project $project_id"
   ]
  },
  {
   "cell_type": "code",
   "execution_count": null,
   "id": "2",
   "metadata": {
    "colab": {
     "base_uri": "https://localhost:8080/",
     "height": 144,
     "referenced_widgets": [
      "eaf2424ab4dd4a7e8e1f38393c2a11bb",
      "1dd0a6df1d0b4d20896bd70a1f51cddf",
      "3e7dd0ceb9bb4ac2b296ac27d9710787",
      "cd4552446a8242bcbde422d649d16ced",
      "40f53e0be119431898c161882015da12",
      "f8bc07df058c490d9c255933c5a60421",
      "3668309cb19a4d119d1c16d06de28e95",
      "d78531e25e5b414a952fb2d4bf9082a9",
      "bb7d15686a0b458c9143237ba35f8e5c",
      "9423367b305043d79d9d1ecf801e7c9a",
      "1e1b2abe240e4cab873c809741ef4a3b",
      "2251b6f80ae6481b9daba66050d248d6",
      "758b24abfa384f9bbbdbf9a88796acda",
      "d96729f88d124cfc9e2a54c3786f4c14",
      "eb4ab4e46ccc4a8db116fcc232aa9ef7",
      "b3ceadc2760b4936a186d8040030c62b",
      "0c23098da2f943e9a368e25bf80c0547",
      "0e118e8785404d38aedc89cb33cca73e",
      "72d0a12bfe71438fa208e47933637bda",
      "97f955965d694a1e824b6f83ba3603d8",
      "ba81c3d73e2e4dedb3fc13cd7c8ca14a",
      "7cb7f196d32142f4ac06e604c22eb968"
     ]
    },
    "executionInfo": {
     "elapsed": 2688,
     "status": "ok",
     "timestamp": 1760996392851,
     "user": {
      "displayName": "Daniel Gallagher",
      "userId": "01685621550923806867"
     },
     "user_tz": 240
    },
    "id": "08a79119",
    "outputId": "39e7a121-ac2d-4afd-f5c5-34fc4b9eb2df"
   },
   "outputs": [],
   "source": [
    "# ✅ Verify BigQuery access\n",
    "%%bigquery --project $project_id\n",
    "SELECT CURRENT_DATE() AS today, SESSION_USER() AS user"
   ]
  },
  {
   "cell_type": "code",
   "execution_count": null,
   "id": "3",
   "metadata": {
    "colab": {
     "base_uri": "https://localhost:8080/",
     "height": 85,
     "referenced_widgets": [
      "6cc20fe3117f46d09ffb2fb618958a89",
      "647b4c6d8e7e4ad8b347f9e99c138c51",
      "433d4cb9f9bc45a0a3cda13c4108009d",
      "e6acc20735cc464d9a6f9c1bbe350676",
      "ad343d5853134607937d06312d96e558",
      "4cf47bb907e849b6ad3b08a7e2216db8",
      "576e9e334a7c444b9601df13f33c2589",
      "fad5c9517a5d4686bd2d7ec4f544f2e9",
      "a201d9a2add242ec9122d6f22c32213f",
      "50196a91242a4b5ead8ec9f62b2e8cb5",
      "81c3fecfb9fa4b53801027b2a31e89ba"
     ]
    },
    "executionInfo": {
     "elapsed": 2732,
     "status": "ok",
     "timestamp": 1760997442816,
     "user": {
      "displayName": "Daniel Gallagher",
      "userId": "01685621550923806867"
     },
     "user_tz": 240
    },
    "id": "4ef5701f",
    "outputId": "24d004a3-cfa6-440a-d1e9-2f0d668c632c"
   },
   "outputs": [],
   "source": [
    "# ✅ Prepare base churn features\n",
    "%%bigquery --project $project_id\n",
    "CREATE OR REPLACE TABLE `netflix.churn_features` AS\n",
    "SELECT\n",
    "  user_id,\n",
    "  age,\n",
    "  gender,\n",
    "  country,\n",
    "  city,\n",
    "  subscription_plan,\n",
    "  monthly_spend,\n",
    "  household_size,\n",
    "  created_at,\n",
    "  subscription_start_date,\n",
    "  is_active\n",
    "FROM `netflix.users`;"
   ]
  },
  {
   "cell_type": "code",
   "execution_count": null,
   "id": "4",
   "metadata": {
    "colab": {
     "base_uri": "https://localhost:8080/",
     "height": 85,
     "referenced_widgets": [
      "8eba7ae8dbad46ad81a8e200f4392a45",
      "7cd4b5037fb84f35b895977f4f747aa8",
      "eef0c4b8b2cc41f4870feec8ad363f4c",
      "3d51cb05c8f347c4a4a979cf89f147d6",
      "7359ef6c9a2442e9ba1e5a621f530679",
      "bd067166062244a99dd89a09421ff4fc",
      "a504a2fcf51e440c8d11b7074029cffc",
      "0967a1c8b62140c39b2749a97a9f76fd",
      "af0312812d374ac59a6b4074241eae62",
      "f8f5a8b43ddc40cd913e1f8451affc47",
      "ca5f88abc48d40ed87add9dff21dc232"
     ]
    },
    "executionInfo": {
     "elapsed": 599,
     "status": "ok",
     "timestamp": 1760997448565,
     "user": {
      "displayName": "Daniel Gallagher",
      "userId": "01685621550923806867"
     },
     "user_tz": 240
    },
    "id": "y9QXKB88k6HT",
    "outputId": "cfca1726-2a28-4983-947c-7edfc11bfad7"
   },
   "outputs": [],
   "source": [
    "%%bigquery --project $project_id\n",
    "\n",
    "-- Step 1: Add a new column called churn_label\n",
    "ALTER TABLE `netflix.churn_features`\n",
    "ADD COLUMN churn_label INT64;"
   ]
  },
  {
   "cell_type": "code",
   "execution_count": null,
   "id": "5",
   "metadata": {
    "colab": {
     "base_uri": "https://localhost:8080/",
     "height": 85,
     "referenced_widgets": [
      "1d7a252888c14d5e96ea77546b94ba74",
      "ca3b1884898c4f37a6ed4f9b4dcddb8f",
      "11bf20e02c244984a668465eff5b3f55",
      "f43cfa75a00b4f988eedde473ff5b565",
      "2302409dc4c240bd85282efe2dc49ead",
      "695dc2cd37a84505bdb36f910cc33bc2",
      "c855a02f24ff42d8bf9eaa7a884c767d",
      "dbf2494ae1414684a4bd08d886426407",
      "12377b3afd264f7e9490427f4d6f6035",
      "ce7e0ffd71ec46f5b62f3ae986cf0c8d",
      "4fd8ea09bcd7402c9c36eab173a10d62"
     ]
    },
    "executionInfo": {
     "elapsed": 2284,
     "status": "ok",
     "timestamp": 1760997453110,
     "user": {
      "displayName": "Daniel Gallagher",
      "userId": "01685621550923806867"
     },
     "user_tz": 240
    },
    "id": "tPAnI6_sk8xC",
    "outputId": "40e6e37f-6998-4d32-ba0c-d43c7b44b68e"
   },
   "outputs": [],
   "source": [
    "%%bigquery --project $project_id\n",
    "\n",
    "-- Step 2: Populate the new column with random 0s and 1s\n",
    "UPDATE `netflix.churn_features`\n",
    "SET churn_label =\n",
    "    CASE\n",
    "        WHEN RAND() < 0.5 THEN 0  -- Assign 0 to approximately 50% of rows\n",
    "        ELSE 1  -- Assign 1 to the remaining rows\n",
    "    END\n",
    "WHERE churn_label IS NULL; -- Only update rows where churn_label is currently NULL"
   ]
  },
  {
   "cell_type": "code",
   "execution_count": null,
   "id": "6",
   "metadata": {
    "colab": {
     "base_uri": "https://localhost:8080/",
     "height": 85,
     "referenced_widgets": [
      "62989cbe56bf4bf584152e5d0b379e59",
      "61ad0e5f1864487892bb575da8ae11d4",
      "65ef022a28d54879b854c8bedbc2a28e",
      "34c8f052e7d44b7db20e6ab55f6d88af",
      "6287f9105cc14deca2340054c84468d9",
      "ccbae55614e84a5c855f438481976e83",
      "9a79592b114f47a69f1e4fb96f623fe6",
      "f3d0280db54d4d48ab083af64bfe456e",
      "37506d6bf17e43b99f26d6439a1769c9",
      "02e3cf46cbf74b3ba24f7305cbe4ec98",
      "2f197dccee0d4ca5b4b7227696a6317b"
     ]
    },
    "executionInfo": {
     "elapsed": 26524,
     "status": "ok",
     "timestamp": 1760997482612,
     "user": {
      "displayName": "Daniel Gallagher",
      "userId": "01685621550923806867"
     },
     "user_tz": 240
    },
    "id": "a3ce2cc5",
    "outputId": "5a79fec8-b62b-4570-b1ee-5b605200b2b2"
   },
   "outputs": [],
   "source": [
    "# ✅ Train base logistic regression model\n",
    "%%bigquery --project $project_id\n",
    "CREATE OR REPLACE MODEL `netflix.churn_model`\n",
    "OPTIONS(model_type='logistic_reg', input_label_cols=['churn_label']) AS\n",
    "SELECT\n",
    "  user_id,\n",
    "  age,\n",
    "  gender,\n",
    "  country,\n",
    "  city,\n",
    "  subscription_plan,\n",
    "  monthly_spend,\n",
    "  household_size,\n",
    "  created_at,\n",
    "  subscription_start_date,\n",
    "  is_active,\n",
    "  churn_label\n",
    "FROM `netflix.churn_features`;"
   ]
  },
  {
   "cell_type": "code",
   "execution_count": null,
   "id": "7",
   "metadata": {
    "colab": {
     "base_uri": "https://localhost:8080/",
     "height": 144,
     "referenced_widgets": [
      "ff9915669bbf45aea39c4162e6b377e5",
      "9858c5720fea4af791d9fdff00976009",
      "dac690dd10e44ff5af456aa3043607ca",
      "de90691015f045ef80093d534b4deda4",
      "9c38df65d1e844a59facae18cdcd9890",
      "48954c9883354aeaa2cb3121ecf5647c",
      "09be3f4f6d454661b80c34fd5935c4d1",
      "39526802e50241389147809613d68848",
      "3f7e418ec0e14853a1c7ea9e2a236bf5",
      "ce35e588660b482d958626bc5b5691eb",
      "3daf693f47c24108a53e8bc6cbb0a850",
      "7fe73ba061394694a52e3508acdd7e4c",
      "e60e5bf0c6c940e6a8c088eafc506e5d",
      "7b0abe8eed91444e8014f5e0e11bb64b",
      "571fcac30d92477e843469a7052094ad",
      "342d3c6e7150490f8e021a02f68bb568",
      "cc061abb87d740f1bff56a0d1439b487",
      "b7680b7e073b49daa6d38133975ecd52",
      "12b0ce0b7283405a9466ce8b76f628e5",
      "512f2cd8aea54b2c945514bcc1566aff",
      "54043368019e482f912c5c789e163082",
      "92a541a79f254c9392199e1cfc87c521"
     ]
    },
    "executionInfo": {
     "elapsed": 2552,
     "status": "ok",
     "timestamp": 1760997489287,
     "user": {
      "displayName": "Daniel Gallagher",
      "userId": "01685621550923806867"
     },
     "user_tz": 240
    },
    "id": "69fc3475",
    "outputId": "c77a75ff-00eb-4e98-9758-1850eef5c808"
   },
   "outputs": [],
   "source": [
    "# ✅ Evaluate base model\n",
    "%%bigquery --project $project_id\n",
    "SELECT *\n",
    "FROM ML.EVALUATE(MODEL `netflix.churn_model`);"
   ]
  },
  {
   "cell_type": "code",
   "execution_count": null,
   "id": "8",
   "metadata": {
    "colab": {
     "base_uri": "https://localhost:8080/",
     "height": 487,
     "referenced_widgets": [
      "36a75777ab8446189ccc82ffbf7d70aa",
      "e6c774474a2044a0b9c2d246ae153e3e",
      "98588abeaed140c8a8e42b5393db4fed",
      "1b8d460b0e8d4915ad1bcca6f2273b21",
      "06ba518d2e834bd1b268418b015a5d86",
      "8126e90703ae4466bb342153b8874e34",
      "767941e8e17c43b89eafa417cd987735",
      "6405ca59d8b0471288d1e82e592c414c",
      "e2658b909994408e86a8982591aeef5f",
      "820345c10b3e495e8a3720ee0ab88de1",
      "1eb0d2f08e4640328e6965c13e14cd00",
      "285eace9e166469fba4e3af1e1517d5e",
      "e52aaa87f8d941d39bed89ec03c17223",
      "6f100ea278174be9a3f30d5cce1553ec",
      "eecb3f38ba7c497f8994bc4dd6157297",
      "8cfed5e7ed594e82b339239c8aa7087c",
      "2d4d3499302e4778a9a925ce24861afa",
      "bf75d389a32b4e41b98c633e44c867f2",
      "db970f5d03454717bd314e240e1f65de",
      "e875e04c72864e1d9635d949dd4214f3",
      "7284402df1ea4b938cea716d3a679e83",
      "49f2bb985fec4b75a1209f3880e983e5"
     ]
    },
    "executionInfo": {
     "elapsed": 3616,
     "status": "ok",
     "timestamp": 1760997497761,
     "user": {
      "displayName": "Daniel Gallagher",
      "userId": "01685621550923806867"
     },
     "user_tz": 240
    },
    "id": "ddceee25",
    "outputId": "55bf8b51-7d14-41af-efa6-9049d36ba3eb"
   },
   "outputs": [],
   "source": [
    "# ✅ Predict churn with base model\n",
    "%%bigquery --project $project_id\n",
    "SELECT\n",
    "  user_id,\n",
    "  predicted_churn_label,\n",
    "  predicted_churn_label_probs\n",
    "FROM ML.PREDICT(MODEL `netflix.churn_model`,\n",
    "                (SELECT * FROM `netflix.churn_features`));"
   ]
  },
  {
   "cell_type": "markdown",
   "id": "9",
   "metadata": {
    "id": "3718b255"
   },
   "source": [
    "\n",
    "## 🛠️ Feature Engineering Section\n",
    "\n",
    "We will now engineer new features to improve model performance:\n",
    "\n",
    "- Bucket continuous variables\n",
    "- Create interaction terms\n",
    "- Add behavioral flags\n"
   ]
  },
  {
   "cell_type": "code",
   "execution_count": null,
   "id": "10",
   "metadata": {
    "colab": {
     "base_uri": "https://localhost:8080/",
     "height": 85,
     "referenced_widgets": [
      "f0478bd9929d4adabd21b90a7e8e1969",
      "a1142c9352c8462f85ac416be5285f01",
      "6b252f1178ff4ffb9a7fd70e415523bd",
      "a6975c66e36c47c0a183067fe3e8b104",
      "88f8d1fdab7642fc88708673b1e19f1c",
      "c59b4d76346543beadac171dc50f365c",
      "a507bb05cb7f48f79b2935d3c66a3647",
      "25a734c28c744df985453f1c6cb31a1f",
      "776ea2e9bb224c16af2e2542462fa082",
      "99279e94968d462c9c14d2c2c85a88ba",
      "d7a627e0170d43e091b5b8f33a89ebe9"
     ]
    },
    "executionInfo": {
     "elapsed": 2360,
     "status": "ok",
     "timestamp": 1760997959903,
     "user": {
      "displayName": "Daniel Gallagher",
      "userId": "01685621550923806867"
     },
     "user_tz": 240
    },
    "id": "272f675d",
    "outputId": "17c19d75-0a22-45e6-df1f-615fd2615fb9"
   },
   "outputs": [],
   "source": [
    "\n",
    "# ✅ Create enhanced feature set\n",
    "%%bigquery --project $project_id\n",
    "CREATE OR REPLACE TABLE `netflix.churn_features_enhanced` AS\n",
    "SELECT\n",
    "  user_id,\n",
    "  age,\n",
    "  gender,\n",
    "  country,\n",
    "  city,\n",
    "  subscription_plan,\n",
    "  monthly_spend,\n",
    "  household_size,\n",
    "  created_at,\n",
    "  subscription_start_date,\n",
    "  is_active,\n",
    "  CASE\n",
    "    WHEN monthly_spend < 10 THEN 'low'\n",
    "    WHEN monthly_spend BETWEEN 10 AND 25 THEN 'medium'\n",
    "    ELSE 'high'\n",
    "  END AS monthly_spend_bucket,\n",
    "  CONCAT(country, '_', subscription_plan) AS country_plan_combo,\n",
    "  churn_label\n",
    "FROM `netflix.churn_features`;\n"
   ]
  },
  {
   "cell_type": "code",
   "execution_count": null,
   "id": "11",
   "metadata": {
    "colab": {
     "base_uri": "https://localhost:8080/",
     "height": 85,
     "referenced_widgets": [
      "b752023dd1cb438baa5e05c8cc1b96c4",
      "1420ca7d7e304f708bd4f153fc29cb4d",
      "e78b22d5188f423fbbbc68ab2e78cd7b",
      "30fd648aad694cd895a597ae710b8798",
      "56557c34ccdc4971b4487e8bdb36ff5a",
      "c41a065c361648bf832b00fc0af383b6",
      "0bebf96046a34ae2b2ce9c4bd572820f",
      "e075bd81490a4c04983199ab83df3c75",
      "40e1248ba5d04474a11d54548a0130ce",
      "4342ab69554d40c8bb50819a8e79c5a9",
      "eeb9261af67645d383d72c7bcbe77338"
     ]
    },
    "executionInfo": {
     "elapsed": 26342,
     "status": "ok",
     "timestamp": 1760998135492,
     "user": {
      "displayName": "Daniel Gallagher",
      "userId": "01685621550923806867"
     },
     "user_tz": 240
    },
    "id": "07d70fe5",
    "outputId": "181bb499-0735-45f5-d5cd-515f65645644"
   },
   "outputs": [],
   "source": [
    "\n",
    "# ✅ Train enhanced model\n",
    "%%bigquery --project $project_id\n",
    "CREATE OR REPLACE MODEL `netflix.churn_model_enhanced`\n",
    "OPTIONS(model_type='logistic_reg', input_label_cols=['churn_label']) AS\n",
    "SELECT\n",
    "  user_id,\n",
    "  age,\n",
    "  gender,\n",
    "  city,\n",
    "  monthly_spend_bucket,\n",
    "  household_size,\n",
    "  created_at,\n",
    "  subscription_start_date,\n",
    "  is_active,\n",
    "  churn_label\n",
    "FROM `netflix.churn_features_enhanced`;\n"
   ]
  },
  {
   "cell_type": "code",
   "execution_count": null,
   "id": "12",
   "metadata": {
    "colab": {
     "base_uri": "https://localhost:8080/",
     "height": 144,
     "referenced_widgets": [
      "afdecff94f08459f891188748e159524",
      "9d436df5ba6d4d8eadbd30915acf64fa",
      "84f005ad201f4c198e0f6c93a728c46c",
      "632540adbbd84cf5aa27bdecd1c8b941",
      "e0123de9fb314f0f9849cfd7b8808274",
      "2662c8fbef9942a49b3436b8119e0492",
      "bb0a11ed2e734e04b298d26b085512cc",
      "74828620d0ed42bda3f368e224e31e1d",
      "e76c3344495643019ad0dc6efb48d30c",
      "8c3f1fa34c8c43e3baf508e3c99288bd",
      "8c10f163c57246a88ca64fa47c8e2fe4",
      "d34c0b78fba84f00a8eb480c50bb9525",
      "d2b89c8355f54424bd1623f8d1c8cdc6",
      "1c317bb5d1fc4b17968fa8a12a1d9ff8",
      "704c420338554e0785076cdaddedf9ee",
      "018e443411e544499d93f19b04752d12",
      "29ddb7f3a82e462381ac043e261e9b8f",
      "bae77295bfe347a59f7dc4c4f45a323e",
      "5f8900544be44b6a839f8c8c34eae510",
      "3f3cea474e0645ffb1dca456831115ea",
      "06bc11c1098349c38ae97d527f0c3dc2",
      "5219eae44a214ec2a5a12ca9e34fbbe9"
     ]
    },
    "executionInfo": {
     "elapsed": 2277,
     "status": "ok",
     "timestamp": 1760998150204,
     "user": {
      "displayName": "Daniel Gallagher",
      "userId": "01685621550923806867"
     },
     "user_tz": 240
    },
    "id": "423b6d00",
    "outputId": "bb3d6471-58aa-4980-e80c-e40a840f3e06"
   },
   "outputs": [],
   "source": [
    "\n",
    "# ✅ Evaluate enhanced model\n",
    "%%bigquery --project $project_id\n",
    "SELECT *\n",
    "FROM ML.EVALUATE(MODEL `netflix.churn_model_enhanced`);\n"
   ]
  },
  {
   "cell_type": "markdown",
   "id": "13",
   "metadata": {
    "id": "bc1a207f"
   },
   "source": [
    "\n",
    "## 🤔 Chain-of-Thought Prompts: Feature Engineering\n",
    "\n",
    "### 1. Why bucket continuous values like watch time?\n",
    "- What patterns become clearer by using categories like \"low\", \"medium\", \"high\"?\n",
    "\n",
    "### 2. What value do interaction terms (e.g., `plan_tier_region`) add?\n",
    "- Could some plans behave differently in different regions?\n",
    "\n",
    "### 3. What’s the purpose of binary flags like `flag_binge`?\n",
    "- Can these capture unique behaviors not reflected in raw totals?\n",
    "\n",
    "### 4. After evaluating the enhanced model:\n",
    "- Which new features helped the most?\n",
    "- Did any surprise you?\n",
    "\n",
    "✍️ Write your responses in a text cell below or in a shared doc for discussion.\n"
   ]
  },
  {
   "cell_type": "markdown",
   "id": "14",
   "metadata": {
    "id": "0a5f99ad"
   },
   "source": [
    "## Responses to Chain-of-Thought Prompts: Feature Engineering\n",
    "\n",
    "### 1. Why bucket continuous values like watch time?\n",
    "Bucketing continuous values can help to:\n",
    "- Simplify the relationship between a continuous feature and the target variable (churn_label) if the relationship is not linear.\n",
    "- Reduce the impact of outliers.\n",
    "- Make the feature more interpretable by grouping users into distinct categories (e.g., 'low', 'medium', 'high' watch time), which can reveal clearer patterns related to churn. For example, a specific tier of watch time might have a significantly higher churn rate than others.\n",
    "\n",
    "### 2. What value do interaction terms (e.g., `plan_tier_region`) add?\n",
    "Interaction terms capture the combined effect of two or more features that might be different from the sum of their individual effects. For example:\n",
    "- The impact of a specific `subscription_plan` on churn might vary significantly depending on the `region` due to local market conditions, pricing, or content preferences. An interaction term like `plan_tier_region` can capture these unique combinations and improve the model's ability to identify specific segments that are more or less likely to churn.\n",
    "\n",
    "### 3. What’s the purpose of binary flags like `flag_binge`?\n",
    "Binary flags are used to highlight specific, often non-linear, behaviors or characteristics that might be strong indicators of the target variable but are not well-represented by raw continuous or categorical features alone.\n",
    "- A `flag_binge` can capture the behavior of users who watch an unusually high amount of content in a short period. This \"binge\" behavior might be strongly correlated with either churn (e.g., they consumed all content they wanted and are leaving) or retention (e.g., they are highly engaged). A simple total watch time might not capture this distinct behavior as effectively as a dedicated flag.\n",
    "\n",
    "### 4. After evaluating the enhanced model:\n",
    "(This requires running the evaluation cell `423b6d00` and analyzing its output.)\n",
    "- Based on the model evaluation metrics (like precision, recall, accuracy, F1-score, log-loss, and ROC AUC), we can compare the performance of the enhanced model (`your_dataset.churn_model_enhanced`) to the base model (`netflix.churn_model`).\n",
    "- By examining the model's coefficients or feature importance scores (if the model type supports it and you run an ML.WEIGHTS query), you can identify which of the new features (bucketed watch time, interaction terms, binary flags) have the strongest impact (positive or negative) on the predicted churn probability. This analysis would reveal which new features helped the most and if any had surprising effects"
   ]
  },
  {
   "cell_type": "code",
   "execution_count": null,
   "id": "15",
   "metadata": {
    "id": "UCyMAqHvhgHq"
   },
   "outputs": [],
   "source": [
    "!nbstripout Labs/Lab5_Classification_BQML.ipynb"
   ]
  },
  {
   "cell_type": "code",
   "execution_count": null,
   "id": "16",
   "metadata": {
    "colab": {
     "base_uri": "https://localhost:8080/"
    },
    "executionInfo": {
     "elapsed": 18727,
     "status": "ok",
     "timestamp": 1761247404001,
     "user": {
      "displayName": "Daniel Gallagher",
      "userId": "01685621550923806867"
     },
     "user_tz": 240
    },
    "id": "6tf-B9jFtga8",
    "outputId": "7a5b6613-25e2-4da6-ae0f-7282fec32be4"
   },
   "outputs": [],
   "source": [
    "from google.colab import drive\n",
    "drive.mount('/content/drive')"
   ]
  },
  {
   "cell_type": "code",
   "execution_count": null,
   "id": "17",
   "metadata": {
    "executionInfo": {
     "elapsed": 188,
     "status": "ok",
     "timestamp": 1760999036390,
     "user": {
      "displayName": "Daniel Gallagher",
      "userId": "01685621550923806867"
     },
     "user_tz": 240
    },
    "id": "cf1M5nh1tgxC"
   },
   "outputs": [],
   "source": [
    "!git config --global user.name \"DanielGallagher1\"\n",
    "!git config --global user.email \"gallagherdaniel555@gmail.com\""
   ]
  },
  {
   "cell_type": "code",
   "execution_count": null,
   "id": "18",
   "metadata": {
    "colab": {
     "base_uri": "https://localhost:8080/"
    },
    "executionInfo": {
     "elapsed": 5768,
     "status": "ok",
     "timestamp": 1760999042845,
     "user": {
      "displayName": "Daniel Gallagher",
      "userId": "01685621550923806867"
     },
     "user_tz": 240
    },
    "id": "zyzFTkxJtibL",
    "outputId": "382edc6e-a405-47e7-d1d5-0496aa5bdb03"
   },
   "outputs": [],
   "source": [
    "from getpass import getpass\n",
    "token = getpass('Enter your GitHub token: ')\n",
    "!git clone https://{token}@github.com/DanielGallagher1/mgmt467-analytics-portfolio.git"
   ]
  },
  {
   "cell_type": "code",
   "execution_count": null,
   "id": "19",
   "metadata": {
    "colab": {
     "base_uri": "https://localhost:8080/"
    },
    "executionInfo": {
     "elapsed": 47,
     "status": "ok",
     "timestamp": 1760999107876,
     "user": {
      "displayName": "Daniel Gallagher",
      "userId": "01685621550923806867"
     },
     "user_tz": 240
    },
    "id": "mwOaiUXNtj6a",
    "outputId": "c1b512ed-cc23-4951-d3b5-05fdaa32c278"
   },
   "outputs": [],
   "source": [
    "%cd /content/mgmt467-analytics-portfolio/"
   ]
  },
  {
   "cell_type": "code",
   "execution_count": null,
   "id": "20",
   "metadata": {
    "executionInfo": {
     "elapsed": 461,
     "status": "ok",
     "timestamp": 1760999110021,
     "user": {
      "displayName": "Daniel Gallagher",
      "userId": "01685621550923806867"
     },
     "user_tz": 240
    },
    "id": "IVheGghrtlgg"
   },
   "outputs": [],
   "source": [
    "!cp \"/content/drive/My Drive/MGMT467/Labs/Lab5_Classification_BQML.ipynb\" \"/content/mgmt467-analytics-portfolio/Labs/\""
   ]
  },
  {
   "cell_type": "code",
   "execution_count": null,
   "id": "21",
   "metadata": {
    "colab": {
     "base_uri": "https://localhost:8080/"
    },
    "executionInfo": {
     "elapsed": 828,
     "status": "ok",
     "timestamp": 1760999111585,
     "user": {
      "displayName": "Daniel Gallagher",
      "userId": "01685621550923806867"
     },
     "user_tz": 240
    },
    "id": "TFYinDlRtocs",
    "outputId": "e3da5444-2d89-475f-adf2-77e1db8d07b3"
   },
   "outputs": [],
   "source": [
    "!git add Labs/Lab5_Classification_BQML.ipynb\n",
    "!git commit -m \"Added Lab5_Classification_BQML.ipynb with latest analysis\"\n",
    "!git push https://{token}@github.com/DanielGallagher1/mgmt467-analytics-portfolio.git main"
   ]
  },
  {
   "cell_type": "code",
   "execution_count": null,
   "id": "22",
   "metadata": {
    "id": "eOoXkfSNhrTR"
   },
   "outputs": [],
   "source": [
    "!nbstripout Labs/Lab5_Classification_BQML.ipynb"
   ]
  }
 ],
 "metadata": {
  "colab": {
   "provenance": []
  },
  "kernelspec": {
   "display_name": "Python 3",
   "name": "python3"
  },
  "language_info": {
   "name": "python"
  }
 },
 "nbformat": 4,
 "nbformat_minor": 5
}
